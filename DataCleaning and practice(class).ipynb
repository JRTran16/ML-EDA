{
 "cells": [
  {
   "cell_type": "code",
   "execution_count": 2,
   "id": "c1a4197d-92df-4a68-b5bc-7c16bbc1897a",
   "metadata": {},
   "outputs": [],
   "source": [
    "import pandas as pd\n",
    "import numpy as np\n",
    "import matplotlib as plt"
   ]
  },
  {
   "cell_type": "code",
   "execution_count": 3,
   "id": "e8375ddf-f30c-4bb6-897c-e9467e33e8fe",
   "metadata": {},
   "outputs": [],
   "source": [
    "dating = pd.read_csv('GenZ_DatingApp_Data.csv')"
   ]
  },
  {
   "cell_type": "code",
   "execution_count": 15,
   "id": "cb519681-b50b-4776-8256-f71e9a7925e7",
   "metadata": {},
   "outputs": [
    {
     "data": {
      "text/html": [
       "<div>\n",
       "<style scoped>\n",
       "    .dataframe tbody tr th:only-of-type {\n",
       "        vertical-align: middle;\n",
       "    }\n",
       "\n",
       "    .dataframe tbody tr th {\n",
       "        vertical-align: top;\n",
       "    }\n",
       "\n",
       "    .dataframe thead th {\n",
       "        text-align: right;\n",
       "    }\n",
       "</style>\n",
       "<table border=\"1\" class=\"dataframe\">\n",
       "  <thead>\n",
       "    <tr style=\"text-align: right;\">\n",
       "      <th></th>\n",
       "      <th>User_ID</th>\n",
       "      <th>Age</th>\n",
       "      <th>Gender</th>\n",
       "      <th>Location</th>\n",
       "      <th>Education</th>\n",
       "      <th>Occupation</th>\n",
       "      <th>Primary_App</th>\n",
       "      <th>Secondary_Apps</th>\n",
       "      <th>Usage_Frequency</th>\n",
       "      <th>Daily_Usage_Time</th>\n",
       "      <th>Reason_for_Using</th>\n",
       "      <th>Satisfaction</th>\n",
       "      <th>Challenges</th>\n",
       "      <th>Desired_Features</th>\n",
       "      <th>Preferred_Communication</th>\n",
       "      <th>Partner_Priorities</th>\n",
       "    </tr>\n",
       "  </thead>\n",
       "  <tbody>\n",
       "    <tr>\n",
       "      <th>0</th>\n",
       "      <td>1</td>\n",
       "      <td>20</td>\n",
       "      <td>Non-binary</td>\n",
       "      <td>Bangalore</td>\n",
       "      <td>Undergraduate</td>\n",
       "      <td>Freelancer</td>\n",
       "      <td>Hinge</td>\n",
       "      <td>Hinge</td>\n",
       "      <td>Monthly</td>\n",
       "      <td>1 hour</td>\n",
       "      <td>Finding a Partner</td>\n",
       "      <td>4</td>\n",
       "      <td>Safety Concerns</td>\n",
       "      <td>Audio Calls</td>\n",
       "      <td>Video Calls</td>\n",
       "      <td>Values &gt; Personality &gt; Appearance</td>\n",
       "    </tr>\n",
       "    <tr>\n",
       "      <th>1</th>\n",
       "      <td>2</td>\n",
       "      <td>24</td>\n",
       "      <td>Female</td>\n",
       "      <td>Delhi</td>\n",
       "      <td>Undergraduate</td>\n",
       "      <td>Part-time Job</td>\n",
       "      <td>Hinge</td>\n",
       "      <td>OkCupid</td>\n",
       "      <td>Weekly</td>\n",
       "      <td>30 minutes</td>\n",
       "      <td>Casual Dating</td>\n",
       "      <td>5</td>\n",
       "      <td>Time-Wasting</td>\n",
       "      <td>Video Calls</td>\n",
       "      <td>Text</td>\n",
       "      <td>Values &gt; Personality &gt; Appearance</td>\n",
       "    </tr>\n",
       "    <tr>\n",
       "      <th>2</th>\n",
       "      <td>3</td>\n",
       "      <td>24</td>\n",
       "      <td>Non-binary</td>\n",
       "      <td>Kolkata</td>\n",
       "      <td>Undergraduate</td>\n",
       "      <td>Intern</td>\n",
       "      <td>NaN</td>\n",
       "      <td>NaN</td>\n",
       "      <td>Weekly</td>\n",
       "      <td>2 hours</td>\n",
       "      <td>Casual Dating</td>\n",
       "      <td>4</td>\n",
       "      <td>Safety Concerns</td>\n",
       "      <td>Detailed Profiles</td>\n",
       "      <td>Text</td>\n",
       "      <td>Values &gt; Personality &gt; Appearance</td>\n",
       "    </tr>\n",
       "    <tr>\n",
       "      <th>3</th>\n",
       "      <td>4</td>\n",
       "      <td>22</td>\n",
       "      <td>Non-binary</td>\n",
       "      <td>Delhi</td>\n",
       "      <td>Graduate</td>\n",
       "      <td>Full-time Job</td>\n",
       "      <td>NaN</td>\n",
       "      <td>OkCupid</td>\n",
       "      <td>Daily</td>\n",
       "      <td>30 minutes</td>\n",
       "      <td>Casual Fun</td>\n",
       "      <td>3</td>\n",
       "      <td>NaN</td>\n",
       "      <td>AI Recommendations</td>\n",
       "      <td>Voice Notes</td>\n",
       "      <td>Personality &gt; Interests &gt; Values</td>\n",
       "    </tr>\n",
       "    <tr>\n",
       "      <th>4</th>\n",
       "      <td>5</td>\n",
       "      <td>18</td>\n",
       "      <td>Male</td>\n",
       "      <td>Delhi</td>\n",
       "      <td>Graduate</td>\n",
       "      <td>Intern</td>\n",
       "      <td>OkCupid</td>\n",
       "      <td>OkCupid</td>\n",
       "      <td>Weekly</td>\n",
       "      <td>2 hours</td>\n",
       "      <td>Casual Fun</td>\n",
       "      <td>4</td>\n",
       "      <td>Safety Concerns</td>\n",
       "      <td>Video Calls</td>\n",
       "      <td>Text</td>\n",
       "      <td>Appearance &gt; Interests &gt; Personality</td>\n",
       "    </tr>\n",
       "    <tr>\n",
       "      <th>5</th>\n",
       "      <td>6</td>\n",
       "      <td>23</td>\n",
       "      <td>Female</td>\n",
       "      <td>Mumbai</td>\n",
       "      <td>Undergraduate</td>\n",
       "      <td>Student</td>\n",
       "      <td>OkCupid</td>\n",
       "      <td>NaN</td>\n",
       "      <td>Daily</td>\n",
       "      <td>1.5 hours</td>\n",
       "      <td>Casual Dating</td>\n",
       "      <td>2</td>\n",
       "      <td>NaN</td>\n",
       "      <td>Audio Calls</td>\n",
       "      <td>Video Calls</td>\n",
       "      <td>Values &gt; Personality &gt; Appearance</td>\n",
       "    </tr>\n",
       "    <tr>\n",
       "      <th>6</th>\n",
       "      <td>7</td>\n",
       "      <td>22</td>\n",
       "      <td>Non-binary</td>\n",
       "      <td>Chennai</td>\n",
       "      <td>Postgraduate</td>\n",
       "      <td>Part-time Job</td>\n",
       "      <td>Tinder</td>\n",
       "      <td>Tinder</td>\n",
       "      <td>Monthly</td>\n",
       "      <td>30 minutes</td>\n",
       "      <td>Finding a Partner</td>\n",
       "      <td>4</td>\n",
       "      <td>Time-Wasting</td>\n",
       "      <td>Audio Calls</td>\n",
       "      <td>Text</td>\n",
       "      <td>Personality &gt; Interests &gt; Values</td>\n",
       "    </tr>\n",
       "    <tr>\n",
       "      <th>7</th>\n",
       "      <td>8</td>\n",
       "      <td>21</td>\n",
       "      <td>Female</td>\n",
       "      <td>Pune</td>\n",
       "      <td>Postgraduate</td>\n",
       "      <td>Freelancer</td>\n",
       "      <td>Hinge</td>\n",
       "      <td>Tinder</td>\n",
       "      <td>Weekly</td>\n",
       "      <td>1.5 hours</td>\n",
       "      <td>Finding a Partner</td>\n",
       "      <td>2</td>\n",
       "      <td>Safety Concerns</td>\n",
       "      <td>Audio Calls</td>\n",
       "      <td>Video Calls</td>\n",
       "      <td>Values &gt; Personality &gt; Appearance</td>\n",
       "    </tr>\n",
       "    <tr>\n",
       "      <th>8</th>\n",
       "      <td>9</td>\n",
       "      <td>20</td>\n",
       "      <td>Male</td>\n",
       "      <td>Pune</td>\n",
       "      <td>Postgraduate</td>\n",
       "      <td>Part-time Job</td>\n",
       "      <td>Hinge</td>\n",
       "      <td>OkCupid</td>\n",
       "      <td>Daily</td>\n",
       "      <td>2 hours</td>\n",
       "      <td>Finding a Partner</td>\n",
       "      <td>1</td>\n",
       "      <td>Lack of Genuine Matches</td>\n",
       "      <td>Audio Calls</td>\n",
       "      <td>Text</td>\n",
       "      <td>Values &gt; Personality &gt; Appearance</td>\n",
       "    </tr>\n",
       "    <tr>\n",
       "      <th>9</th>\n",
       "      <td>10</td>\n",
       "      <td>20</td>\n",
       "      <td>Non-binary</td>\n",
       "      <td>Chennai</td>\n",
       "      <td>Undergraduate</td>\n",
       "      <td>Intern</td>\n",
       "      <td>OkCupid</td>\n",
       "      <td>Bumble</td>\n",
       "      <td>Weekly</td>\n",
       "      <td>3 hours</td>\n",
       "      <td>Finding a Partner</td>\n",
       "      <td>1</td>\n",
       "      <td>Safety Concerns</td>\n",
       "      <td>Location-Based Matching</td>\n",
       "      <td>Video Calls</td>\n",
       "      <td>Values &gt; Personality &gt; Appearance</td>\n",
       "    </tr>\n",
       "  </tbody>\n",
       "</table>\n",
       "</div>"
      ],
      "text/plain": [
       "   User_ID  Age      Gender   Location      Education     Occupation  \\\n",
       "0        1   20  Non-binary  Bangalore  Undergraduate     Freelancer   \n",
       "1        2   24      Female      Delhi  Undergraduate  Part-time Job   \n",
       "2        3   24  Non-binary    Kolkata  Undergraduate         Intern   \n",
       "3        4   22  Non-binary      Delhi       Graduate  Full-time Job   \n",
       "4        5   18        Male      Delhi       Graduate         Intern   \n",
       "5        6   23      Female     Mumbai  Undergraduate        Student   \n",
       "6        7   22  Non-binary    Chennai   Postgraduate  Part-time Job   \n",
       "7        8   21      Female       Pune   Postgraduate     Freelancer   \n",
       "8        9   20        Male       Pune   Postgraduate  Part-time Job   \n",
       "9       10   20  Non-binary    Chennai  Undergraduate         Intern   \n",
       "\n",
       "  Primary_App Secondary_Apps Usage_Frequency Daily_Usage_Time  \\\n",
       "0       Hinge          Hinge         Monthly           1 hour   \n",
       "1       Hinge        OkCupid          Weekly       30 minutes   \n",
       "2         NaN            NaN          Weekly          2 hours   \n",
       "3         NaN        OkCupid           Daily       30 minutes   \n",
       "4     OkCupid        OkCupid          Weekly          2 hours   \n",
       "5     OkCupid            NaN           Daily        1.5 hours   \n",
       "6      Tinder         Tinder         Monthly       30 minutes   \n",
       "7       Hinge         Tinder          Weekly        1.5 hours   \n",
       "8       Hinge        OkCupid           Daily          2 hours   \n",
       "9     OkCupid         Bumble          Weekly          3 hours   \n",
       "\n",
       "    Reason_for_Using  Satisfaction               Challenges  \\\n",
       "0  Finding a Partner             4          Safety Concerns   \n",
       "1      Casual Dating             5             Time-Wasting   \n",
       "2      Casual Dating             4          Safety Concerns   \n",
       "3         Casual Fun             3                      NaN   \n",
       "4         Casual Fun             4          Safety Concerns   \n",
       "5      Casual Dating             2                      NaN   \n",
       "6  Finding a Partner             4             Time-Wasting   \n",
       "7  Finding a Partner             2          Safety Concerns   \n",
       "8  Finding a Partner             1  Lack of Genuine Matches   \n",
       "9  Finding a Partner             1          Safety Concerns   \n",
       "\n",
       "          Desired_Features Preferred_Communication  \\\n",
       "0              Audio Calls             Video Calls   \n",
       "1              Video Calls                    Text   \n",
       "2        Detailed Profiles                    Text   \n",
       "3       AI Recommendations             Voice Notes   \n",
       "4              Video Calls                    Text   \n",
       "5              Audio Calls             Video Calls   \n",
       "6              Audio Calls                    Text   \n",
       "7              Audio Calls             Video Calls   \n",
       "8              Audio Calls                    Text   \n",
       "9  Location-Based Matching             Video Calls   \n",
       "\n",
       "                     Partner_Priorities  \n",
       "0     Values > Personality > Appearance  \n",
       "1     Values > Personality > Appearance  \n",
       "2     Values > Personality > Appearance  \n",
       "3      Personality > Interests > Values  \n",
       "4  Appearance > Interests > Personality  \n",
       "5     Values > Personality > Appearance  \n",
       "6      Personality > Interests > Values  \n",
       "7     Values > Personality > Appearance  \n",
       "8     Values > Personality > Appearance  \n",
       "9     Values > Personality > Appearance  "
      ]
     },
     "execution_count": 15,
     "metadata": {},
     "output_type": "execute_result"
    }
   ],
   "source": [
    "dating.head(10)"
   ]
  },
  {
   "cell_type": "code",
   "execution_count": 4,
   "id": "374797ba-e3f3-4071-bce8-df706637ca80",
   "metadata": {},
   "outputs": [
    {
     "data": {
      "text/html": [
       "<div>\n",
       "<style scoped>\n",
       "    .dataframe tbody tr th:only-of-type {\n",
       "        vertical-align: middle;\n",
       "    }\n",
       "\n",
       "    .dataframe tbody tr th {\n",
       "        vertical-align: top;\n",
       "    }\n",
       "\n",
       "    .dataframe thead th {\n",
       "        text-align: right;\n",
       "    }\n",
       "</style>\n",
       "<table border=\"1\" class=\"dataframe\">\n",
       "  <thead>\n",
       "    <tr style=\"text-align: right;\">\n",
       "      <th></th>\n",
       "      <th>User_ID</th>\n",
       "      <th>Age</th>\n",
       "      <th>Gender</th>\n",
       "      <th>Location</th>\n",
       "      <th>Education</th>\n",
       "      <th>Occupation</th>\n",
       "      <th>Primary_App</th>\n",
       "      <th>Secondary_Apps</th>\n",
       "      <th>Usage_Frequency</th>\n",
       "      <th>Daily_Usage_Time</th>\n",
       "      <th>Reason_for_Using</th>\n",
       "      <th>Satisfaction</th>\n",
       "      <th>Challenges</th>\n",
       "      <th>Desired_Features</th>\n",
       "      <th>Preferred_Communication</th>\n",
       "      <th>Partner_Priorities</th>\n",
       "    </tr>\n",
       "  </thead>\n",
       "  <tbody>\n",
       "    <tr>\n",
       "      <th>495</th>\n",
       "      <td>496</td>\n",
       "      <td>23</td>\n",
       "      <td>Female</td>\n",
       "      <td>Mumbai</td>\n",
       "      <td>Undergraduate</td>\n",
       "      <td>Intern</td>\n",
       "      <td>Tinder</td>\n",
       "      <td>Hinge</td>\n",
       "      <td>Weekly</td>\n",
       "      <td>1.5 hours</td>\n",
       "      <td>Casual Dating</td>\n",
       "      <td>2</td>\n",
       "      <td>NaN</td>\n",
       "      <td>Audio Calls</td>\n",
       "      <td>Voice Notes</td>\n",
       "      <td>Personality &gt; Interests &gt; Values</td>\n",
       "    </tr>\n",
       "    <tr>\n",
       "      <th>496</th>\n",
       "      <td>497</td>\n",
       "      <td>23</td>\n",
       "      <td>Male</td>\n",
       "      <td>Mumbai</td>\n",
       "      <td>Postgraduate</td>\n",
       "      <td>Intern</td>\n",
       "      <td>OkCupid</td>\n",
       "      <td>Tinder</td>\n",
       "      <td>Daily</td>\n",
       "      <td>2 hours</td>\n",
       "      <td>Casual Fun</td>\n",
       "      <td>1</td>\n",
       "      <td>Time-Wasting</td>\n",
       "      <td>Video Calls</td>\n",
       "      <td>Video Calls</td>\n",
       "      <td>Values &gt; Personality &gt; Appearance</td>\n",
       "    </tr>\n",
       "    <tr>\n",
       "      <th>497</th>\n",
       "      <td>498</td>\n",
       "      <td>22</td>\n",
       "      <td>Male</td>\n",
       "      <td>Hyderabad</td>\n",
       "      <td>Graduate</td>\n",
       "      <td>Freelancer</td>\n",
       "      <td>NaN</td>\n",
       "      <td>Hinge</td>\n",
       "      <td>Monthly</td>\n",
       "      <td>2 hours</td>\n",
       "      <td>Casual Fun</td>\n",
       "      <td>2</td>\n",
       "      <td>Lack of Genuine Matches</td>\n",
       "      <td>Video Calls</td>\n",
       "      <td>Voice Notes</td>\n",
       "      <td>Appearance &gt; Interests &gt; Personality</td>\n",
       "    </tr>\n",
       "    <tr>\n",
       "      <th>498</th>\n",
       "      <td>499</td>\n",
       "      <td>21</td>\n",
       "      <td>Female</td>\n",
       "      <td>Kolkata</td>\n",
       "      <td>Graduate</td>\n",
       "      <td>Student</td>\n",
       "      <td>Tinder</td>\n",
       "      <td>Hinge</td>\n",
       "      <td>Daily</td>\n",
       "      <td>1.5 hours</td>\n",
       "      <td>Casual Dating</td>\n",
       "      <td>3</td>\n",
       "      <td>Lack of Genuine Matches</td>\n",
       "      <td>Detailed Profiles</td>\n",
       "      <td>Text</td>\n",
       "      <td>Appearance &gt; Interests &gt; Personality</td>\n",
       "    </tr>\n",
       "    <tr>\n",
       "      <th>499</th>\n",
       "      <td>500</td>\n",
       "      <td>22</td>\n",
       "      <td>Male</td>\n",
       "      <td>Mumbai</td>\n",
       "      <td>Graduate</td>\n",
       "      <td>Part-time Job</td>\n",
       "      <td>NaN</td>\n",
       "      <td>Hinge</td>\n",
       "      <td>Weekly</td>\n",
       "      <td>1.5 hours</td>\n",
       "      <td>Casual Fun</td>\n",
       "      <td>2</td>\n",
       "      <td>Time-Wasting</td>\n",
       "      <td>AI Recommendations</td>\n",
       "      <td>Video Calls</td>\n",
       "      <td>Appearance &gt; Interests &gt; Personality</td>\n",
       "    </tr>\n",
       "  </tbody>\n",
       "</table>\n",
       "</div>"
      ],
      "text/plain": [
       "     User_ID  Age  Gender   Location      Education     Occupation  \\\n",
       "495      496   23  Female     Mumbai  Undergraduate         Intern   \n",
       "496      497   23    Male     Mumbai   Postgraduate         Intern   \n",
       "497      498   22    Male  Hyderabad       Graduate     Freelancer   \n",
       "498      499   21  Female    Kolkata       Graduate        Student   \n",
       "499      500   22    Male     Mumbai       Graduate  Part-time Job   \n",
       "\n",
       "    Primary_App Secondary_Apps Usage_Frequency Daily_Usage_Time  \\\n",
       "495      Tinder          Hinge          Weekly        1.5 hours   \n",
       "496     OkCupid         Tinder           Daily          2 hours   \n",
       "497         NaN          Hinge         Monthly          2 hours   \n",
       "498      Tinder          Hinge           Daily        1.5 hours   \n",
       "499         NaN          Hinge          Weekly        1.5 hours   \n",
       "\n",
       "    Reason_for_Using  Satisfaction               Challenges  \\\n",
       "495    Casual Dating             2                      NaN   \n",
       "496       Casual Fun             1             Time-Wasting   \n",
       "497       Casual Fun             2  Lack of Genuine Matches   \n",
       "498    Casual Dating             3  Lack of Genuine Matches   \n",
       "499       Casual Fun             2             Time-Wasting   \n",
       "\n",
       "       Desired_Features Preferred_Communication  \\\n",
       "495         Audio Calls             Voice Notes   \n",
       "496         Video Calls             Video Calls   \n",
       "497         Video Calls             Voice Notes   \n",
       "498   Detailed Profiles                    Text   \n",
       "499  AI Recommendations             Video Calls   \n",
       "\n",
       "                       Partner_Priorities  \n",
       "495      Personality > Interests > Values  \n",
       "496     Values > Personality > Appearance  \n",
       "497  Appearance > Interests > Personality  \n",
       "498  Appearance > Interests > Personality  \n",
       "499  Appearance > Interests > Personality  "
      ]
     },
     "execution_count": 4,
     "metadata": {},
     "output_type": "execute_result"
    }
   ],
   "source": [
    "dating.tail()"
   ]
  },
  {
   "cell_type": "code",
   "execution_count": 5,
   "id": "da42951e-f239-439b-95bf-3371e4eac358",
   "metadata": {},
   "outputs": [
    {
     "data": {
      "text/plain": [
       "User_ID                     int64\n",
       "Age                         int64\n",
       "Gender                     object\n",
       "Location                   object\n",
       "Education                  object\n",
       "Occupation                 object\n",
       "Primary_App                object\n",
       "Secondary_Apps             object\n",
       "Usage_Frequency            object\n",
       "Daily_Usage_Time           object\n",
       "Reason_for_Using           object\n",
       "Satisfaction                int64\n",
       "Challenges                 object\n",
       "Desired_Features           object\n",
       "Preferred_Communication    object\n",
       "Partner_Priorities         object\n",
       "dtype: object"
      ]
     },
     "execution_count": 5,
     "metadata": {},
     "output_type": "execute_result"
    }
   ],
   "source": [
    "dating.dtypes"
   ]
  },
  {
   "cell_type": "code",
   "execution_count": 6,
   "id": "43f893c8-40fc-4910-8ba9-a6709f418704",
   "metadata": {},
   "outputs": [
    {
     "data": {
      "text/html": [
       "<div>\n",
       "<style scoped>\n",
       "    .dataframe tbody tr th:only-of-type {\n",
       "        vertical-align: middle;\n",
       "    }\n",
       "\n",
       "    .dataframe tbody tr th {\n",
       "        vertical-align: top;\n",
       "    }\n",
       "\n",
       "    .dataframe thead th {\n",
       "        text-align: right;\n",
       "    }\n",
       "</style>\n",
       "<table border=\"1\" class=\"dataframe\">\n",
       "  <thead>\n",
       "    <tr style=\"text-align: right;\">\n",
       "      <th></th>\n",
       "      <th>User_ID</th>\n",
       "      <th>Age</th>\n",
       "      <th>Gender</th>\n",
       "      <th>Location</th>\n",
       "      <th>Education</th>\n",
       "      <th>Occupation</th>\n",
       "      <th>Primary_App</th>\n",
       "      <th>Secondary_Apps</th>\n",
       "      <th>Usage_Frequency</th>\n",
       "      <th>Daily_Usage_Time</th>\n",
       "      <th>Reason_for_Using</th>\n",
       "      <th>Satisfaction</th>\n",
       "      <th>Challenges</th>\n",
       "      <th>Desired_Features</th>\n",
       "      <th>Preferred_Communication</th>\n",
       "      <th>Partner_Priorities</th>\n",
       "    </tr>\n",
       "  </thead>\n",
       "  <tbody>\n",
       "    <tr>\n",
       "      <th>0</th>\n",
       "      <td>1</td>\n",
       "      <td>20</td>\n",
       "      <td>Non-binary</td>\n",
       "      <td>Bangalore</td>\n",
       "      <td>Undergraduate</td>\n",
       "      <td>Freelancer</td>\n",
       "      <td>Hinge</td>\n",
       "      <td>Hinge</td>\n",
       "      <td>Monthly</td>\n",
       "      <td>1 hour</td>\n",
       "      <td>Finding a Partner</td>\n",
       "      <td>4</td>\n",
       "      <td>Safety Concerns</td>\n",
       "      <td>Audio Calls</td>\n",
       "      <td>Video Calls</td>\n",
       "      <td>Values &gt; Personality &gt; Appearance</td>\n",
       "    </tr>\n",
       "    <tr>\n",
       "      <th>1</th>\n",
       "      <td>2</td>\n",
       "      <td>24</td>\n",
       "      <td>Female</td>\n",
       "      <td>Delhi</td>\n",
       "      <td>Undergraduate</td>\n",
       "      <td>Part-time Job</td>\n",
       "      <td>Hinge</td>\n",
       "      <td>OkCupid</td>\n",
       "      <td>Weekly</td>\n",
       "      <td>30 minutes</td>\n",
       "      <td>Casual Dating</td>\n",
       "      <td>5</td>\n",
       "      <td>Time-Wasting</td>\n",
       "      <td>Video Calls</td>\n",
       "      <td>Text</td>\n",
       "      <td>Values &gt; Personality &gt; Appearance</td>\n",
       "    </tr>\n",
       "    <tr>\n",
       "      <th>4</th>\n",
       "      <td>5</td>\n",
       "      <td>18</td>\n",
       "      <td>Male</td>\n",
       "      <td>Delhi</td>\n",
       "      <td>Graduate</td>\n",
       "      <td>Intern</td>\n",
       "      <td>OkCupid</td>\n",
       "      <td>OkCupid</td>\n",
       "      <td>Weekly</td>\n",
       "      <td>2 hours</td>\n",
       "      <td>Casual Fun</td>\n",
       "      <td>4</td>\n",
       "      <td>Safety Concerns</td>\n",
       "      <td>Video Calls</td>\n",
       "      <td>Text</td>\n",
       "      <td>Appearance &gt; Interests &gt; Personality</td>\n",
       "    </tr>\n",
       "    <tr>\n",
       "      <th>6</th>\n",
       "      <td>7</td>\n",
       "      <td>22</td>\n",
       "      <td>Non-binary</td>\n",
       "      <td>Chennai</td>\n",
       "      <td>Postgraduate</td>\n",
       "      <td>Part-time Job</td>\n",
       "      <td>Tinder</td>\n",
       "      <td>Tinder</td>\n",
       "      <td>Monthly</td>\n",
       "      <td>30 minutes</td>\n",
       "      <td>Finding a Partner</td>\n",
       "      <td>4</td>\n",
       "      <td>Time-Wasting</td>\n",
       "      <td>Audio Calls</td>\n",
       "      <td>Text</td>\n",
       "      <td>Personality &gt; Interests &gt; Values</td>\n",
       "    </tr>\n",
       "    <tr>\n",
       "      <th>7</th>\n",
       "      <td>8</td>\n",
       "      <td>21</td>\n",
       "      <td>Female</td>\n",
       "      <td>Pune</td>\n",
       "      <td>Postgraduate</td>\n",
       "      <td>Freelancer</td>\n",
       "      <td>Hinge</td>\n",
       "      <td>Tinder</td>\n",
       "      <td>Weekly</td>\n",
       "      <td>1.5 hours</td>\n",
       "      <td>Finding a Partner</td>\n",
       "      <td>2</td>\n",
       "      <td>Safety Concerns</td>\n",
       "      <td>Audio Calls</td>\n",
       "      <td>Video Calls</td>\n",
       "      <td>Values &gt; Personality &gt; Appearance</td>\n",
       "    </tr>\n",
       "    <tr>\n",
       "      <th>...</th>\n",
       "      <td>...</td>\n",
       "      <td>...</td>\n",
       "      <td>...</td>\n",
       "      <td>...</td>\n",
       "      <td>...</td>\n",
       "      <td>...</td>\n",
       "      <td>...</td>\n",
       "      <td>...</td>\n",
       "      <td>...</td>\n",
       "      <td>...</td>\n",
       "      <td>...</td>\n",
       "      <td>...</td>\n",
       "      <td>...</td>\n",
       "      <td>...</td>\n",
       "      <td>...</td>\n",
       "      <td>...</td>\n",
       "    </tr>\n",
       "    <tr>\n",
       "      <th>490</th>\n",
       "      <td>491</td>\n",
       "      <td>25</td>\n",
       "      <td>Female</td>\n",
       "      <td>Kolkata</td>\n",
       "      <td>Graduate</td>\n",
       "      <td>Student</td>\n",
       "      <td>OkCupid</td>\n",
       "      <td>Hinge</td>\n",
       "      <td>Daily</td>\n",
       "      <td>3 hours</td>\n",
       "      <td>Casual Fun</td>\n",
       "      <td>3</td>\n",
       "      <td>Lack of Genuine Matches</td>\n",
       "      <td>AI Recommendations</td>\n",
       "      <td>Text</td>\n",
       "      <td>Personality &gt; Interests &gt; Values</td>\n",
       "    </tr>\n",
       "    <tr>\n",
       "      <th>492</th>\n",
       "      <td>493</td>\n",
       "      <td>24</td>\n",
       "      <td>Female</td>\n",
       "      <td>Mumbai</td>\n",
       "      <td>Postgraduate</td>\n",
       "      <td>Intern</td>\n",
       "      <td>Tinder</td>\n",
       "      <td>Bumble</td>\n",
       "      <td>Weekly</td>\n",
       "      <td>2 hours</td>\n",
       "      <td>Casual Dating</td>\n",
       "      <td>5</td>\n",
       "      <td>Time-Wasting</td>\n",
       "      <td>Location-Based Matching</td>\n",
       "      <td>Video Calls</td>\n",
       "      <td>Appearance &gt; Interests &gt; Personality</td>\n",
       "    </tr>\n",
       "    <tr>\n",
       "      <th>494</th>\n",
       "      <td>495</td>\n",
       "      <td>19</td>\n",
       "      <td>Female</td>\n",
       "      <td>Chennai</td>\n",
       "      <td>Graduate</td>\n",
       "      <td>Intern</td>\n",
       "      <td>OkCupid</td>\n",
       "      <td>Tinder</td>\n",
       "      <td>Weekly</td>\n",
       "      <td>30 minutes</td>\n",
       "      <td>Finding a Partner</td>\n",
       "      <td>3</td>\n",
       "      <td>Time-Wasting</td>\n",
       "      <td>Location-Based Matching</td>\n",
       "      <td>Video Calls</td>\n",
       "      <td>Personality &gt; Interests &gt; Values</td>\n",
       "    </tr>\n",
       "    <tr>\n",
       "      <th>496</th>\n",
       "      <td>497</td>\n",
       "      <td>23</td>\n",
       "      <td>Male</td>\n",
       "      <td>Mumbai</td>\n",
       "      <td>Postgraduate</td>\n",
       "      <td>Intern</td>\n",
       "      <td>OkCupid</td>\n",
       "      <td>Tinder</td>\n",
       "      <td>Daily</td>\n",
       "      <td>2 hours</td>\n",
       "      <td>Casual Fun</td>\n",
       "      <td>1</td>\n",
       "      <td>Time-Wasting</td>\n",
       "      <td>Video Calls</td>\n",
       "      <td>Video Calls</td>\n",
       "      <td>Values &gt; Personality &gt; Appearance</td>\n",
       "    </tr>\n",
       "    <tr>\n",
       "      <th>498</th>\n",
       "      <td>499</td>\n",
       "      <td>21</td>\n",
       "      <td>Female</td>\n",
       "      <td>Kolkata</td>\n",
       "      <td>Graduate</td>\n",
       "      <td>Student</td>\n",
       "      <td>Tinder</td>\n",
       "      <td>Hinge</td>\n",
       "      <td>Daily</td>\n",
       "      <td>1.5 hours</td>\n",
       "      <td>Casual Dating</td>\n",
       "      <td>3</td>\n",
       "      <td>Lack of Genuine Matches</td>\n",
       "      <td>Detailed Profiles</td>\n",
       "      <td>Text</td>\n",
       "      <td>Appearance &gt; Interests &gt; Personality</td>\n",
       "    </tr>\n",
       "  </tbody>\n",
       "</table>\n",
       "<p>239 rows × 16 columns</p>\n",
       "</div>"
      ],
      "text/plain": [
       "     User_ID  Age      Gender   Location      Education     Occupation  \\\n",
       "0          1   20  Non-binary  Bangalore  Undergraduate     Freelancer   \n",
       "1          2   24      Female      Delhi  Undergraduate  Part-time Job   \n",
       "4          5   18        Male      Delhi       Graduate         Intern   \n",
       "6          7   22  Non-binary    Chennai   Postgraduate  Part-time Job   \n",
       "7          8   21      Female       Pune   Postgraduate     Freelancer   \n",
       "..       ...  ...         ...        ...            ...            ...   \n",
       "490      491   25      Female    Kolkata       Graduate        Student   \n",
       "492      493   24      Female     Mumbai   Postgraduate         Intern   \n",
       "494      495   19      Female    Chennai       Graduate         Intern   \n",
       "496      497   23        Male     Mumbai   Postgraduate         Intern   \n",
       "498      499   21      Female    Kolkata       Graduate        Student   \n",
       "\n",
       "    Primary_App Secondary_Apps Usage_Frequency Daily_Usage_Time  \\\n",
       "0         Hinge          Hinge         Monthly           1 hour   \n",
       "1         Hinge        OkCupid          Weekly       30 minutes   \n",
       "4       OkCupid        OkCupid          Weekly          2 hours   \n",
       "6        Tinder         Tinder         Monthly       30 minutes   \n",
       "7         Hinge         Tinder          Weekly        1.5 hours   \n",
       "..          ...            ...             ...              ...   \n",
       "490     OkCupid          Hinge           Daily          3 hours   \n",
       "492      Tinder         Bumble          Weekly          2 hours   \n",
       "494     OkCupid         Tinder          Weekly       30 minutes   \n",
       "496     OkCupid         Tinder           Daily          2 hours   \n",
       "498      Tinder          Hinge           Daily        1.5 hours   \n",
       "\n",
       "      Reason_for_Using  Satisfaction               Challenges  \\\n",
       "0    Finding a Partner             4          Safety Concerns   \n",
       "1        Casual Dating             5             Time-Wasting   \n",
       "4           Casual Fun             4          Safety Concerns   \n",
       "6    Finding a Partner             4             Time-Wasting   \n",
       "7    Finding a Partner             2          Safety Concerns   \n",
       "..                 ...           ...                      ...   \n",
       "490         Casual Fun             3  Lack of Genuine Matches   \n",
       "492      Casual Dating             5             Time-Wasting   \n",
       "494  Finding a Partner             3             Time-Wasting   \n",
       "496         Casual Fun             1             Time-Wasting   \n",
       "498      Casual Dating             3  Lack of Genuine Matches   \n",
       "\n",
       "            Desired_Features Preferred_Communication  \\\n",
       "0                Audio Calls             Video Calls   \n",
       "1                Video Calls                    Text   \n",
       "4                Video Calls                    Text   \n",
       "6                Audio Calls                    Text   \n",
       "7                Audio Calls             Video Calls   \n",
       "..                       ...                     ...   \n",
       "490       AI Recommendations                    Text   \n",
       "492  Location-Based Matching             Video Calls   \n",
       "494  Location-Based Matching             Video Calls   \n",
       "496              Video Calls             Video Calls   \n",
       "498        Detailed Profiles                    Text   \n",
       "\n",
       "                       Partner_Priorities  \n",
       "0       Values > Personality > Appearance  \n",
       "1       Values > Personality > Appearance  \n",
       "4    Appearance > Interests > Personality  \n",
       "6        Personality > Interests > Values  \n",
       "7       Values > Personality > Appearance  \n",
       "..                                    ...  \n",
       "490      Personality > Interests > Values  \n",
       "492  Appearance > Interests > Personality  \n",
       "494      Personality > Interests > Values  \n",
       "496     Values > Personality > Appearance  \n",
       "498  Appearance > Interests > Personality  \n",
       "\n",
       "[239 rows x 16 columns]"
      ]
     },
     "execution_count": 6,
     "metadata": {},
     "output_type": "execute_result"
    }
   ],
   "source": [
    "dating.dropna()"
   ]
  },
  {
   "cell_type": "code",
   "execution_count": 7,
   "id": "db2ac2b6-607b-4b0f-8067-396edb4ecbba",
   "metadata": {},
   "outputs": [
    {
     "data": {
      "text/html": [
       "<div>\n",
       "<style scoped>\n",
       "    .dataframe tbody tr th:only-of-type {\n",
       "        vertical-align: middle;\n",
       "    }\n",
       "\n",
       "    .dataframe tbody tr th {\n",
       "        vertical-align: top;\n",
       "    }\n",
       "\n",
       "    .dataframe thead th {\n",
       "        text-align: right;\n",
       "    }\n",
       "</style>\n",
       "<table border=\"1\" class=\"dataframe\">\n",
       "  <thead>\n",
       "    <tr style=\"text-align: right;\">\n",
       "      <th></th>\n",
       "      <th>User_ID</th>\n",
       "      <th>Age</th>\n",
       "      <th>Satisfaction</th>\n",
       "    </tr>\n",
       "  </thead>\n",
       "  <tbody>\n",
       "    <tr>\n",
       "      <th>count</th>\n",
       "      <td>500.000000</td>\n",
       "      <td>500.000000</td>\n",
       "      <td>500.000000</td>\n",
       "    </tr>\n",
       "    <tr>\n",
       "      <th>mean</th>\n",
       "      <td>250.500000</td>\n",
       "      <td>21.582000</td>\n",
       "      <td>2.906000</td>\n",
       "    </tr>\n",
       "    <tr>\n",
       "      <th>std</th>\n",
       "      <td>144.481833</td>\n",
       "      <td>2.259532</td>\n",
       "      <td>1.441291</td>\n",
       "    </tr>\n",
       "    <tr>\n",
       "      <th>min</th>\n",
       "      <td>1.000000</td>\n",
       "      <td>18.000000</td>\n",
       "      <td>1.000000</td>\n",
       "    </tr>\n",
       "    <tr>\n",
       "      <th>25%</th>\n",
       "      <td>125.750000</td>\n",
       "      <td>20.000000</td>\n",
       "      <td>2.000000</td>\n",
       "    </tr>\n",
       "    <tr>\n",
       "      <th>50%</th>\n",
       "      <td>250.500000</td>\n",
       "      <td>22.000000</td>\n",
       "      <td>3.000000</td>\n",
       "    </tr>\n",
       "    <tr>\n",
       "      <th>75%</th>\n",
       "      <td>375.250000</td>\n",
       "      <td>24.000000</td>\n",
       "      <td>4.000000</td>\n",
       "    </tr>\n",
       "    <tr>\n",
       "      <th>max</th>\n",
       "      <td>500.000000</td>\n",
       "      <td>25.000000</td>\n",
       "      <td>5.000000</td>\n",
       "    </tr>\n",
       "  </tbody>\n",
       "</table>\n",
       "</div>"
      ],
      "text/plain": [
       "          User_ID         Age  Satisfaction\n",
       "count  500.000000  500.000000    500.000000\n",
       "mean   250.500000   21.582000      2.906000\n",
       "std    144.481833    2.259532      1.441291\n",
       "min      1.000000   18.000000      1.000000\n",
       "25%    125.750000   20.000000      2.000000\n",
       "50%    250.500000   22.000000      3.000000\n",
       "75%    375.250000   24.000000      4.000000\n",
       "max    500.000000   25.000000      5.000000"
      ]
     },
     "execution_count": 7,
     "metadata": {},
     "output_type": "execute_result"
    }
   ],
   "source": [
    "dating.describe()"
   ]
  },
  {
   "cell_type": "code",
   "execution_count": 9,
   "id": "83d4d825-e587-45e3-8180-e241c9e24d83",
   "metadata": {},
   "outputs": [
    {
     "name": "stdout",
     "output_type": "stream",
     "text": [
      "0      False\n",
      "1      False\n",
      "2      False\n",
      "3      False\n",
      "4      False\n",
      "       ...  \n",
      "495    False\n",
      "496    False\n",
      "497    False\n",
      "498    False\n",
      "499    False\n",
      "Length: 500, dtype: bool\n"
     ]
    }
   ],
   "source": [
    "print(dating.duplicated())"
   ]
  },
  {
   "cell_type": "code",
   "execution_count": 18,
   "id": "da383d1b-e10a-4ad5-8ad0-13a55de86731",
   "metadata": {},
   "outputs": [
    {
     "name": "stdout",
     "output_type": "stream",
     "text": [
      "<class 'pandas.core.frame.DataFrame'>\n",
      "RangeIndex: 500 entries, 0 to 499\n",
      "Data columns (total 16 columns):\n",
      " #   Column                   Non-Null Count  Dtype \n",
      "---  ------                   --------------  ----- \n",
      " 0   User_ID                  500 non-null    int64 \n",
      " 1   Age                      500 non-null    int64 \n",
      " 2   Gender                   500 non-null    object\n",
      " 3   Location                 500 non-null    object\n",
      " 4   Education                500 non-null    object\n",
      " 5   Occupation               500 non-null    object\n",
      " 6   Primary_App              393 non-null    object\n",
      " 7   Secondary_Apps           386 non-null    object\n",
      " 8   Usage_Frequency          500 non-null    object\n",
      " 9   Daily_Usage_Time         500 non-null    object\n",
      " 10  Reason_for_Using         500 non-null    object\n",
      " 11  Satisfaction             500 non-null    int64 \n",
      " 12  Challenges               383 non-null    object\n",
      " 13  Desired_Features         500 non-null    object\n",
      " 14  Preferred_Communication  500 non-null    object\n",
      " 15  Partner_Priorities       500 non-null    object\n",
      "dtypes: int64(3), object(13)\n",
      "memory usage: 62.6+ KB\n"
     ]
    }
   ],
   "source": [
    "dating.info()"
   ]
  },
  {
   "cell_type": "code",
   "execution_count": 20,
   "id": "376752d4-80c6-4bd5-ad8f-844d252f72c2",
   "metadata": {},
   "outputs": [
    {
     "data": {
      "text/plain": [
       "(500, 16)"
      ]
     },
     "execution_count": 20,
     "metadata": {},
     "output_type": "execute_result"
    }
   ],
   "source": [
    "dating.shape"
   ]
  },
  {
   "cell_type": "code",
   "execution_count": 21,
   "id": "e2aec2a7-415a-4d48-a73e-86828a64c31c",
   "metadata": {},
   "outputs": [
    {
     "name": "stdout",
     "output_type": "stream",
     "text": [
      "Missing values per column:\n",
      " User_ID                      0\n",
      "Age                          0\n",
      "Gender                       0\n",
      "Location                     0\n",
      "Education                    0\n",
      "Occupation                   0\n",
      "Primary_App                107\n",
      "Secondary_Apps             114\n",
      "Usage_Frequency              0\n",
      "Daily_Usage_Time             0\n",
      "Reason_for_Using             0\n",
      "Satisfaction                 0\n",
      "Challenges                 117\n",
      "Desired_Features             0\n",
      "Preferred_Communication      0\n",
      "Partner_Priorities           0\n",
      "dtype: int64\n"
     ]
    }
   ],
   "source": [
    "missing_values = dating.isnull().sum()\n",
    "print(\"Missing values per column:\\n\", missing_values)"
   ]
  },
  {
   "cell_type": "code",
   "execution_count": 22,
   "id": "b9983a7b-5563-4c64-95e1-1516332fcef9",
   "metadata": {},
   "outputs": [],
   "source": [
    "data = dating.dropna(thresh=len(dating.columns) - 2)"
   ]
  },
  {
   "cell_type": "code",
   "execution_count": 23,
   "id": "8f944c6e-bbc4-4017-9753-49cb0640be91",
   "metadata": {},
   "outputs": [
    {
     "data": {
      "text/html": [
       "<div>\n",
       "<style scoped>\n",
       "    .dataframe tbody tr th:only-of-type {\n",
       "        vertical-align: middle;\n",
       "    }\n",
       "\n",
       "    .dataframe tbody tr th {\n",
       "        vertical-align: top;\n",
       "    }\n",
       "\n",
       "    .dataframe thead th {\n",
       "        text-align: right;\n",
       "    }\n",
       "</style>\n",
       "<table border=\"1\" class=\"dataframe\">\n",
       "  <thead>\n",
       "    <tr style=\"text-align: right;\">\n",
       "      <th></th>\n",
       "      <th>User_ID</th>\n",
       "      <th>Age</th>\n",
       "      <th>Gender</th>\n",
       "      <th>Location</th>\n",
       "      <th>Education</th>\n",
       "      <th>Occupation</th>\n",
       "      <th>Primary_App</th>\n",
       "      <th>Secondary_Apps</th>\n",
       "      <th>Usage_Frequency</th>\n",
       "      <th>Daily_Usage_Time</th>\n",
       "      <th>Reason_for_Using</th>\n",
       "      <th>Satisfaction</th>\n",
       "      <th>Challenges</th>\n",
       "      <th>Desired_Features</th>\n",
       "      <th>Preferred_Communication</th>\n",
       "      <th>Partner_Priorities</th>\n",
       "    </tr>\n",
       "  </thead>\n",
       "  <tbody>\n",
       "    <tr>\n",
       "      <th>0</th>\n",
       "      <td>1</td>\n",
       "      <td>20</td>\n",
       "      <td>Non-binary</td>\n",
       "      <td>Bangalore</td>\n",
       "      <td>Undergraduate</td>\n",
       "      <td>Freelancer</td>\n",
       "      <td>Hinge</td>\n",
       "      <td>Hinge</td>\n",
       "      <td>Monthly</td>\n",
       "      <td>1 hour</td>\n",
       "      <td>Finding a Partner</td>\n",
       "      <td>4</td>\n",
       "      <td>Safety Concerns</td>\n",
       "      <td>Audio Calls</td>\n",
       "      <td>Video Calls</td>\n",
       "      <td>Values &gt; Personality &gt; Appearance</td>\n",
       "    </tr>\n",
       "    <tr>\n",
       "      <th>1</th>\n",
       "      <td>2</td>\n",
       "      <td>24</td>\n",
       "      <td>Female</td>\n",
       "      <td>Delhi</td>\n",
       "      <td>Undergraduate</td>\n",
       "      <td>Part-time Job</td>\n",
       "      <td>Hinge</td>\n",
       "      <td>OkCupid</td>\n",
       "      <td>Weekly</td>\n",
       "      <td>30 minutes</td>\n",
       "      <td>Casual Dating</td>\n",
       "      <td>5</td>\n",
       "      <td>Time-Wasting</td>\n",
       "      <td>Video Calls</td>\n",
       "      <td>Text</td>\n",
       "      <td>Values &gt; Personality &gt; Appearance</td>\n",
       "    </tr>\n",
       "    <tr>\n",
       "      <th>2</th>\n",
       "      <td>3</td>\n",
       "      <td>24</td>\n",
       "      <td>Non-binary</td>\n",
       "      <td>Kolkata</td>\n",
       "      <td>Undergraduate</td>\n",
       "      <td>Intern</td>\n",
       "      <td>NaN</td>\n",
       "      <td>NaN</td>\n",
       "      <td>Weekly</td>\n",
       "      <td>2 hours</td>\n",
       "      <td>Casual Dating</td>\n",
       "      <td>4</td>\n",
       "      <td>Safety Concerns</td>\n",
       "      <td>Detailed Profiles</td>\n",
       "      <td>Text</td>\n",
       "      <td>Values &gt; Personality &gt; Appearance</td>\n",
       "    </tr>\n",
       "    <tr>\n",
       "      <th>3</th>\n",
       "      <td>4</td>\n",
       "      <td>22</td>\n",
       "      <td>Non-binary</td>\n",
       "      <td>Delhi</td>\n",
       "      <td>Graduate</td>\n",
       "      <td>Full-time Job</td>\n",
       "      <td>NaN</td>\n",
       "      <td>OkCupid</td>\n",
       "      <td>Daily</td>\n",
       "      <td>30 minutes</td>\n",
       "      <td>Casual Fun</td>\n",
       "      <td>3</td>\n",
       "      <td>NaN</td>\n",
       "      <td>AI Recommendations</td>\n",
       "      <td>Voice Notes</td>\n",
       "      <td>Personality &gt; Interests &gt; Values</td>\n",
       "    </tr>\n",
       "    <tr>\n",
       "      <th>4</th>\n",
       "      <td>5</td>\n",
       "      <td>18</td>\n",
       "      <td>Male</td>\n",
       "      <td>Delhi</td>\n",
       "      <td>Graduate</td>\n",
       "      <td>Intern</td>\n",
       "      <td>OkCupid</td>\n",
       "      <td>OkCupid</td>\n",
       "      <td>Weekly</td>\n",
       "      <td>2 hours</td>\n",
       "      <td>Casual Fun</td>\n",
       "      <td>4</td>\n",
       "      <td>Safety Concerns</td>\n",
       "      <td>Video Calls</td>\n",
       "      <td>Text</td>\n",
       "      <td>Appearance &gt; Interests &gt; Personality</td>\n",
       "    </tr>\n",
       "    <tr>\n",
       "      <th>...</th>\n",
       "      <td>...</td>\n",
       "      <td>...</td>\n",
       "      <td>...</td>\n",
       "      <td>...</td>\n",
       "      <td>...</td>\n",
       "      <td>...</td>\n",
       "      <td>...</td>\n",
       "      <td>...</td>\n",
       "      <td>...</td>\n",
       "      <td>...</td>\n",
       "      <td>...</td>\n",
       "      <td>...</td>\n",
       "      <td>...</td>\n",
       "      <td>...</td>\n",
       "      <td>...</td>\n",
       "      <td>...</td>\n",
       "    </tr>\n",
       "    <tr>\n",
       "      <th>495</th>\n",
       "      <td>496</td>\n",
       "      <td>23</td>\n",
       "      <td>Female</td>\n",
       "      <td>Mumbai</td>\n",
       "      <td>Undergraduate</td>\n",
       "      <td>Intern</td>\n",
       "      <td>Tinder</td>\n",
       "      <td>Hinge</td>\n",
       "      <td>Weekly</td>\n",
       "      <td>1.5 hours</td>\n",
       "      <td>Casual Dating</td>\n",
       "      <td>2</td>\n",
       "      <td>NaN</td>\n",
       "      <td>Audio Calls</td>\n",
       "      <td>Voice Notes</td>\n",
       "      <td>Personality &gt; Interests &gt; Values</td>\n",
       "    </tr>\n",
       "    <tr>\n",
       "      <th>496</th>\n",
       "      <td>497</td>\n",
       "      <td>23</td>\n",
       "      <td>Male</td>\n",
       "      <td>Mumbai</td>\n",
       "      <td>Postgraduate</td>\n",
       "      <td>Intern</td>\n",
       "      <td>OkCupid</td>\n",
       "      <td>Tinder</td>\n",
       "      <td>Daily</td>\n",
       "      <td>2 hours</td>\n",
       "      <td>Casual Fun</td>\n",
       "      <td>1</td>\n",
       "      <td>Time-Wasting</td>\n",
       "      <td>Video Calls</td>\n",
       "      <td>Video Calls</td>\n",
       "      <td>Values &gt; Personality &gt; Appearance</td>\n",
       "    </tr>\n",
       "    <tr>\n",
       "      <th>497</th>\n",
       "      <td>498</td>\n",
       "      <td>22</td>\n",
       "      <td>Male</td>\n",
       "      <td>Hyderabad</td>\n",
       "      <td>Graduate</td>\n",
       "      <td>Freelancer</td>\n",
       "      <td>NaN</td>\n",
       "      <td>Hinge</td>\n",
       "      <td>Monthly</td>\n",
       "      <td>2 hours</td>\n",
       "      <td>Casual Fun</td>\n",
       "      <td>2</td>\n",
       "      <td>Lack of Genuine Matches</td>\n",
       "      <td>Video Calls</td>\n",
       "      <td>Voice Notes</td>\n",
       "      <td>Appearance &gt; Interests &gt; Personality</td>\n",
       "    </tr>\n",
       "    <tr>\n",
       "      <th>498</th>\n",
       "      <td>499</td>\n",
       "      <td>21</td>\n",
       "      <td>Female</td>\n",
       "      <td>Kolkata</td>\n",
       "      <td>Graduate</td>\n",
       "      <td>Student</td>\n",
       "      <td>Tinder</td>\n",
       "      <td>Hinge</td>\n",
       "      <td>Daily</td>\n",
       "      <td>1.5 hours</td>\n",
       "      <td>Casual Dating</td>\n",
       "      <td>3</td>\n",
       "      <td>Lack of Genuine Matches</td>\n",
       "      <td>Detailed Profiles</td>\n",
       "      <td>Text</td>\n",
       "      <td>Appearance &gt; Interests &gt; Personality</td>\n",
       "    </tr>\n",
       "    <tr>\n",
       "      <th>499</th>\n",
       "      <td>500</td>\n",
       "      <td>22</td>\n",
       "      <td>Male</td>\n",
       "      <td>Mumbai</td>\n",
       "      <td>Graduate</td>\n",
       "      <td>Part-time Job</td>\n",
       "      <td>NaN</td>\n",
       "      <td>Hinge</td>\n",
       "      <td>Weekly</td>\n",
       "      <td>1.5 hours</td>\n",
       "      <td>Casual Fun</td>\n",
       "      <td>2</td>\n",
       "      <td>Time-Wasting</td>\n",
       "      <td>AI Recommendations</td>\n",
       "      <td>Video Calls</td>\n",
       "      <td>Appearance &gt; Interests &gt; Personality</td>\n",
       "    </tr>\n",
       "  </tbody>\n",
       "</table>\n",
       "<p>489 rows × 16 columns</p>\n",
       "</div>"
      ],
      "text/plain": [
       "     User_ID  Age      Gender   Location      Education     Occupation  \\\n",
       "0          1   20  Non-binary  Bangalore  Undergraduate     Freelancer   \n",
       "1          2   24      Female      Delhi  Undergraduate  Part-time Job   \n",
       "2          3   24  Non-binary    Kolkata  Undergraduate         Intern   \n",
       "3          4   22  Non-binary      Delhi       Graduate  Full-time Job   \n",
       "4          5   18        Male      Delhi       Graduate         Intern   \n",
       "..       ...  ...         ...        ...            ...            ...   \n",
       "495      496   23      Female     Mumbai  Undergraduate         Intern   \n",
       "496      497   23        Male     Mumbai   Postgraduate         Intern   \n",
       "497      498   22        Male  Hyderabad       Graduate     Freelancer   \n",
       "498      499   21      Female    Kolkata       Graduate        Student   \n",
       "499      500   22        Male     Mumbai       Graduate  Part-time Job   \n",
       "\n",
       "    Primary_App Secondary_Apps Usage_Frequency Daily_Usage_Time  \\\n",
       "0         Hinge          Hinge         Monthly           1 hour   \n",
       "1         Hinge        OkCupid          Weekly       30 minutes   \n",
       "2           NaN            NaN          Weekly          2 hours   \n",
       "3           NaN        OkCupid           Daily       30 minutes   \n",
       "4       OkCupid        OkCupid          Weekly          2 hours   \n",
       "..          ...            ...             ...              ...   \n",
       "495      Tinder          Hinge          Weekly        1.5 hours   \n",
       "496     OkCupid         Tinder           Daily          2 hours   \n",
       "497         NaN          Hinge         Monthly          2 hours   \n",
       "498      Tinder          Hinge           Daily        1.5 hours   \n",
       "499         NaN          Hinge          Weekly        1.5 hours   \n",
       "\n",
       "      Reason_for_Using  Satisfaction               Challenges  \\\n",
       "0    Finding a Partner             4          Safety Concerns   \n",
       "1        Casual Dating             5             Time-Wasting   \n",
       "2        Casual Dating             4          Safety Concerns   \n",
       "3           Casual Fun             3                      NaN   \n",
       "4           Casual Fun             4          Safety Concerns   \n",
       "..                 ...           ...                      ...   \n",
       "495      Casual Dating             2                      NaN   \n",
       "496         Casual Fun             1             Time-Wasting   \n",
       "497         Casual Fun             2  Lack of Genuine Matches   \n",
       "498      Casual Dating             3  Lack of Genuine Matches   \n",
       "499         Casual Fun             2             Time-Wasting   \n",
       "\n",
       "       Desired_Features Preferred_Communication  \\\n",
       "0           Audio Calls             Video Calls   \n",
       "1           Video Calls                    Text   \n",
       "2     Detailed Profiles                    Text   \n",
       "3    AI Recommendations             Voice Notes   \n",
       "4           Video Calls                    Text   \n",
       "..                  ...                     ...   \n",
       "495         Audio Calls             Voice Notes   \n",
       "496         Video Calls             Video Calls   \n",
       "497         Video Calls             Voice Notes   \n",
       "498   Detailed Profiles                    Text   \n",
       "499  AI Recommendations             Video Calls   \n",
       "\n",
       "                       Partner_Priorities  \n",
       "0       Values > Personality > Appearance  \n",
       "1       Values > Personality > Appearance  \n",
       "2       Values > Personality > Appearance  \n",
       "3        Personality > Interests > Values  \n",
       "4    Appearance > Interests > Personality  \n",
       "..                                    ...  \n",
       "495      Personality > Interests > Values  \n",
       "496     Values > Personality > Appearance  \n",
       "497  Appearance > Interests > Personality  \n",
       "498  Appearance > Interests > Personality  \n",
       "499  Appearance > Interests > Personality  \n",
       "\n",
       "[489 rows x 16 columns]"
      ]
     },
     "execution_count": 23,
     "metadata": {},
     "output_type": "execute_result"
    }
   ],
   "source": [
    "data"
   ]
  },
  {
   "cell_type": "code",
   "execution_count": 27,
   "id": "aeb6e1fe-d48a-4d65-83b3-c5f6b8c6b4bb",
   "metadata": {},
   "outputs": [
    {
     "data": {
      "text/html": [
       "<div>\n",
       "<style scoped>\n",
       "    .dataframe tbody tr th:only-of-type {\n",
       "        vertical-align: middle;\n",
       "    }\n",
       "\n",
       "    .dataframe tbody tr th {\n",
       "        vertical-align: top;\n",
       "    }\n",
       "\n",
       "    .dataframe thead th {\n",
       "        text-align: right;\n",
       "    }\n",
       "</style>\n",
       "<table border=\"1\" class=\"dataframe\">\n",
       "  <thead>\n",
       "    <tr style=\"text-align: right;\">\n",
       "      <th></th>\n",
       "      <th>User_ID</th>\n",
       "      <th>Age</th>\n",
       "      <th>Gender</th>\n",
       "      <th>Location</th>\n",
       "      <th>Education</th>\n",
       "    </tr>\n",
       "  </thead>\n",
       "  <tbody>\n",
       "    <tr>\n",
       "      <th>0</th>\n",
       "      <td>1</td>\n",
       "      <td>20</td>\n",
       "      <td>Non-binary</td>\n",
       "      <td>Bangalore</td>\n",
       "      <td>Undergraduate</td>\n",
       "    </tr>\n",
       "    <tr>\n",
       "      <th>1</th>\n",
       "      <td>2</td>\n",
       "      <td>24</td>\n",
       "      <td>Female</td>\n",
       "      <td>Delhi</td>\n",
       "      <td>Undergraduate</td>\n",
       "    </tr>\n",
       "    <tr>\n",
       "      <th>2</th>\n",
       "      <td>3</td>\n",
       "      <td>24</td>\n",
       "      <td>Non-binary</td>\n",
       "      <td>Kolkata</td>\n",
       "      <td>Undergraduate</td>\n",
       "    </tr>\n",
       "    <tr>\n",
       "      <th>3</th>\n",
       "      <td>4</td>\n",
       "      <td>22</td>\n",
       "      <td>Non-binary</td>\n",
       "      <td>Delhi</td>\n",
       "      <td>Graduate</td>\n",
       "    </tr>\n",
       "    <tr>\n",
       "      <th>4</th>\n",
       "      <td>5</td>\n",
       "      <td>18</td>\n",
       "      <td>Male</td>\n",
       "      <td>Delhi</td>\n",
       "      <td>Graduate</td>\n",
       "    </tr>\n",
       "  </tbody>\n",
       "</table>\n",
       "</div>"
      ],
      "text/plain": [
       "   User_ID  Age      Gender   Location      Education\n",
       "0        1   20  Non-binary  Bangalore  Undergraduate\n",
       "1        2   24      Female      Delhi  Undergraduate\n",
       "2        3   24  Non-binary    Kolkata  Undergraduate\n",
       "3        4   22  Non-binary      Delhi       Graduate\n",
       "4        5   18        Male      Delhi       Graduate"
      ]
     },
     "execution_count": 27,
     "metadata": {},
     "output_type": "execute_result"
    }
   ],
   "source": [
    "dating.head().iloc[:, :5]"
   ]
  },
  {
   "cell_type": "code",
   "execution_count": 29,
   "id": "fc3727cd-b10c-40e3-bbc0-6dce18566fd4",
   "metadata": {},
   "outputs": [
    {
     "data": {
      "text/plain": [
       "0    Non-binary\n",
       "1        Female\n",
       "2    Non-binary\n",
       "3    Non-binary\n",
       "4          Male\n",
       "Name: Gender, dtype: object"
      ]
     },
     "execution_count": 29,
     "metadata": {},
     "output_type": "execute_result"
    }
   ],
   "source": [
    "dating['Gender'].head()\n"
   ]
  },
  {
   "cell_type": "code",
   "execution_count": 30,
   "id": "f5db286e-cbdd-46eb-ba41-0b4dc8302e6f",
   "metadata": {},
   "outputs": [
    {
     "data": {
      "text/html": [
       "<div>\n",
       "<style scoped>\n",
       "    .dataframe tbody tr th:only-of-type {\n",
       "        vertical-align: middle;\n",
       "    }\n",
       "\n",
       "    .dataframe tbody tr th {\n",
       "        vertical-align: top;\n",
       "    }\n",
       "\n",
       "    .dataframe thead th {\n",
       "        text-align: right;\n",
       "    }\n",
       "</style>\n",
       "<table border=\"1\" class=\"dataframe\">\n",
       "  <thead>\n",
       "    <tr style=\"text-align: right;\">\n",
       "      <th></th>\n",
       "      <th>Age</th>\n",
       "      <th>Gender</th>\n",
       "      <th>Location</th>\n",
       "    </tr>\n",
       "  </thead>\n",
       "  <tbody>\n",
       "    <tr>\n",
       "      <th>0</th>\n",
       "      <td>20</td>\n",
       "      <td>Non-binary</td>\n",
       "      <td>Bangalore</td>\n",
       "    </tr>\n",
       "    <tr>\n",
       "      <th>1</th>\n",
       "      <td>24</td>\n",
       "      <td>Female</td>\n",
       "      <td>Delhi</td>\n",
       "    </tr>\n",
       "    <tr>\n",
       "      <th>2</th>\n",
       "      <td>24</td>\n",
       "      <td>Non-binary</td>\n",
       "      <td>Kolkata</td>\n",
       "    </tr>\n",
       "    <tr>\n",
       "      <th>3</th>\n",
       "      <td>22</td>\n",
       "      <td>Non-binary</td>\n",
       "      <td>Delhi</td>\n",
       "    </tr>\n",
       "    <tr>\n",
       "      <th>4</th>\n",
       "      <td>18</td>\n",
       "      <td>Male</td>\n",
       "      <td>Delhi</td>\n",
       "    </tr>\n",
       "    <tr>\n",
       "      <th>...</th>\n",
       "      <td>...</td>\n",
       "      <td>...</td>\n",
       "      <td>...</td>\n",
       "    </tr>\n",
       "    <tr>\n",
       "      <th>495</th>\n",
       "      <td>23</td>\n",
       "      <td>Female</td>\n",
       "      <td>Mumbai</td>\n",
       "    </tr>\n",
       "    <tr>\n",
       "      <th>496</th>\n",
       "      <td>23</td>\n",
       "      <td>Male</td>\n",
       "      <td>Mumbai</td>\n",
       "    </tr>\n",
       "    <tr>\n",
       "      <th>497</th>\n",
       "      <td>22</td>\n",
       "      <td>Male</td>\n",
       "      <td>Hyderabad</td>\n",
       "    </tr>\n",
       "    <tr>\n",
       "      <th>498</th>\n",
       "      <td>21</td>\n",
       "      <td>Female</td>\n",
       "      <td>Kolkata</td>\n",
       "    </tr>\n",
       "    <tr>\n",
       "      <th>499</th>\n",
       "      <td>22</td>\n",
       "      <td>Male</td>\n",
       "      <td>Mumbai</td>\n",
       "    </tr>\n",
       "  </tbody>\n",
       "</table>\n",
       "<p>500 rows × 3 columns</p>\n",
       "</div>"
      ],
      "text/plain": [
       "     Age      Gender   Location\n",
       "0     20  Non-binary  Bangalore\n",
       "1     24      Female      Delhi\n",
       "2     24  Non-binary    Kolkata\n",
       "3     22  Non-binary      Delhi\n",
       "4     18        Male      Delhi\n",
       "..   ...         ...        ...\n",
       "495   23      Female     Mumbai\n",
       "496   23        Male     Mumbai\n",
       "497   22        Male  Hyderabad\n",
       "498   21      Female    Kolkata\n",
       "499   22        Male     Mumbai\n",
       "\n",
       "[500 rows x 3 columns]"
      ]
     },
     "execution_count": 30,
     "metadata": {},
     "output_type": "execute_result"
    }
   ],
   "source": [
    "dating.iloc[:, [1,2,3]]"
   ]
  },
  {
   "cell_type": "code",
   "execution_count": 32,
   "id": "567d5b43-3972-4e17-b665-9056f9ef03cd",
   "metadata": {},
   "outputs": [
    {
     "data": {
      "text/html": [
       "<div>\n",
       "<style scoped>\n",
       "    .dataframe tbody tr th:only-of-type {\n",
       "        vertical-align: middle;\n",
       "    }\n",
       "\n",
       "    .dataframe tbody tr th {\n",
       "        vertical-align: top;\n",
       "    }\n",
       "\n",
       "    .dataframe thead th {\n",
       "        text-align: right;\n",
       "    }\n",
       "</style>\n",
       "<table border=\"1\" class=\"dataframe\">\n",
       "  <thead>\n",
       "    <tr style=\"text-align: right;\">\n",
       "      <th></th>\n",
       "      <th>Gender</th>\n",
       "      <th>Location</th>\n",
       "    </tr>\n",
       "  </thead>\n",
       "  <tbody>\n",
       "    <tr>\n",
       "      <th>1</th>\n",
       "      <td>Female</td>\n",
       "      <td>Delhi</td>\n",
       "    </tr>\n",
       "  </tbody>\n",
       "</table>\n",
       "</div>"
      ],
      "text/plain": [
       "   Gender Location\n",
       "1  Female    Delhi"
      ]
     },
     "execution_count": 32,
     "metadata": {},
     "output_type": "execute_result"
    }
   ],
   "source": [
    "dating.iloc[1:2, 2:4]"
   ]
  },
  {
   "cell_type": "code",
   "execution_count": 33,
   "id": "b9680fb3-7c38-4c31-99b4-ed3330370677",
   "metadata": {},
   "outputs": [
    {
     "data": {
      "text/plain": [
       "(np.float64(21.582), np.float64(2.2595324680003817))"
      ]
     },
     "execution_count": 33,
     "metadata": {},
     "output_type": "execute_result"
    }
   ],
   "source": [
    "mean_age = dating['Age'].mean()\n",
    "std_dev_age = dating['Age'].std()\n",
    "\n",
    "mean_age, std_dev_age"
   ]
  },
  {
   "cell_type": "code",
   "execution_count": 34,
   "id": "22c747f1-1d54-4f46-a18c-71e37c805a10",
   "metadata": {},
   "outputs": [
    {
     "data": {
      "text/plain": [
       "np.int64(500)"
      ]
     },
     "execution_count": 34,
     "metadata": {},
     "output_type": "execute_result"
    }
   ],
   "source": [
    "dating['Age'].count()"
   ]
  },
  {
   "cell_type": "code",
   "execution_count": 35,
   "id": "f0395543-00a5-4e28-9508-3ee9b494f93e",
   "metadata": {},
   "outputs": [
    {
     "ename": "AttributeError",
     "evalue": "module 'matplotlib' has no attribute 'figure'",
     "output_type": "error",
     "traceback": [
      "\u001b[1;31m---------------------------------------------------------------------------\u001b[0m",
      "\u001b[1;31mAttributeError\u001b[0m                            Traceback (most recent call last)",
      "Cell \u001b[1;32mIn[35], line 1\u001b[0m\n\u001b[1;32m----> 1\u001b[0m plt\u001b[38;5;241m.\u001b[39mfigure(figsize\u001b[38;5;241m=\u001b[39m(\u001b[38;5;241m8\u001b[39m, \u001b[38;5;241m6\u001b[39m))\n\u001b[0;32m      2\u001b[0m sns\u001b[38;5;241m.\u001b[39mhistplot(dating[\u001b[38;5;124m'\u001b[39m\u001b[38;5;124mAge\u001b[39m\u001b[38;5;124m'\u001b[39m], bins\u001b[38;5;241m=\u001b[39m\u001b[38;5;241m10\u001b[39m, kde\u001b[38;5;241m=\u001b[39m\u001b[38;5;28;01mTrue\u001b[39;00m, color\u001b[38;5;241m=\u001b[39m\u001b[38;5;124m'\u001b[39m\u001b[38;5;124mskyblue\u001b[39m\u001b[38;5;124m'\u001b[39m)\n\u001b[0;32m      3\u001b[0m plt\u001b[38;5;241m.\u001b[39mtitle(\u001b[38;5;124m'\u001b[39m\u001b[38;5;124mAge Distribution\u001b[39m\u001b[38;5;124m'\u001b[39m)\n",
      "File \u001b[1;32m~\\anaconda3\\envs\\Machine learning\\Lib\\site-packages\\matplotlib\\_api\\__init__.py:218\u001b[0m, in \u001b[0;36mcaching_module_getattr.<locals>.__getattr__\u001b[1;34m(name)\u001b[0m\n\u001b[0;32m    216\u001b[0m \u001b[38;5;28;01mif\u001b[39;00m name \u001b[38;5;129;01min\u001b[39;00m props:\n\u001b[0;32m    217\u001b[0m     \u001b[38;5;28;01mreturn\u001b[39;00m props[name]\u001b[38;5;241m.\u001b[39m\u001b[38;5;21m__get__\u001b[39m(instance)\n\u001b[1;32m--> 218\u001b[0m \u001b[38;5;28;01mraise\u001b[39;00m \u001b[38;5;167;01mAttributeError\u001b[39;00m(\n\u001b[0;32m    219\u001b[0m     \u001b[38;5;124mf\u001b[39m\u001b[38;5;124m\"\u001b[39m\u001b[38;5;124mmodule \u001b[39m\u001b[38;5;132;01m{\u001b[39;00m\u001b[38;5;28mcls\u001b[39m\u001b[38;5;241m.\u001b[39m\u001b[38;5;18m__module__\u001b[39m\u001b[38;5;132;01m!r}\u001b[39;00m\u001b[38;5;124m has no attribute \u001b[39m\u001b[38;5;132;01m{\u001b[39;00mname\u001b[38;5;132;01m!r}\u001b[39;00m\u001b[38;5;124m\"\u001b[39m)\n",
      "\u001b[1;31mAttributeError\u001b[0m: module 'matplotlib' has no attribute 'figure'"
     ]
    }
   ],
   "source": [
    "plt.figure(figsize=(8, 6))\n",
    "sns.histplot(dating['Age'], bins=10, kde=True, color='skyblue')\n",
    "plt.title('Age Distribution')\n",
    "plt.xlabel('Age')\n",
    "plt.ylabel('Frequency')\n",
    "plt.show()"
   ]
  },
  {
   "cell_type": "code",
   "execution_count": 36,
   "id": "8d03f046-6656-4ac5-b536-9b38c76f3cd5",
   "metadata": {},
   "outputs": [
    {
     "ename": "NameError",
     "evalue": "name 'matplotlib' is not defined",
     "output_type": "error",
     "traceback": [
      "\u001b[1;31m---------------------------------------------------------------------------\u001b[0m",
      "\u001b[1;31mNameError\u001b[0m                                 Traceback (most recent call last)",
      "Cell \u001b[1;32mIn[36], line 1\u001b[0m\n\u001b[1;32m----> 1\u001b[0m \u001b[38;5;28mprint\u001b[39m(matplotlib)\n\u001b[0;32m      2\u001b[0m \u001b[38;5;28mprint\u001b[39m(plt)\n",
      "\u001b[1;31mNameError\u001b[0m: name 'matplotlib' is not defined"
     ]
    }
   ],
   "source": [
    "print(matplotlib)\n",
    "print(plt)"
   ]
  },
  {
   "cell_type": "code",
   "execution_count": 37,
   "id": "5258743f-5879-4fbc-be98-9d0f810ed5db",
   "metadata": {},
   "outputs": [],
   "source": [
    "import matplotlib.pyplot as plt\n",
    "import matplotlib\n",
    "\n"
   ]
  },
  {
   "cell_type": "code",
   "execution_count": 38,
   "id": "b90bb1ec-524e-4823-be74-726ceadba0bb",
   "metadata": {},
   "outputs": [
    {
     "ename": "NameError",
     "evalue": "name 'sns' is not defined",
     "output_type": "error",
     "traceback": [
      "\u001b[1;31m---------------------------------------------------------------------------\u001b[0m",
      "\u001b[1;31mNameError\u001b[0m                                 Traceback (most recent call last)",
      "Cell \u001b[1;32mIn[38], line 2\u001b[0m\n\u001b[0;32m      1\u001b[0m plt\u001b[38;5;241m.\u001b[39mfigure(figsize\u001b[38;5;241m=\u001b[39m(\u001b[38;5;241m8\u001b[39m, \u001b[38;5;241m6\u001b[39m))\n\u001b[1;32m----> 2\u001b[0m sns\u001b[38;5;241m.\u001b[39mhistplot(dating[\u001b[38;5;124m'\u001b[39m\u001b[38;5;124mAge\u001b[39m\u001b[38;5;124m'\u001b[39m], bins\u001b[38;5;241m=\u001b[39m\u001b[38;5;241m10\u001b[39m, kde\u001b[38;5;241m=\u001b[39m\u001b[38;5;28;01mTrue\u001b[39;00m, color\u001b[38;5;241m=\u001b[39m\u001b[38;5;124m'\u001b[39m\u001b[38;5;124mskyblue\u001b[39m\u001b[38;5;124m'\u001b[39m)\n\u001b[0;32m      3\u001b[0m plt\u001b[38;5;241m.\u001b[39mtitle(\u001b[38;5;124m'\u001b[39m\u001b[38;5;124mAge Distribution\u001b[39m\u001b[38;5;124m'\u001b[39m)\n\u001b[0;32m      4\u001b[0m plt\u001b[38;5;241m.\u001b[39mxlabel(\u001b[38;5;124m'\u001b[39m\u001b[38;5;124mAge\u001b[39m\u001b[38;5;124m'\u001b[39m)\n",
      "\u001b[1;31mNameError\u001b[0m: name 'sns' is not defined"
     ]
    },
    {
     "data": {
      "text/plain": [
       "<Figure size 800x600 with 0 Axes>"
      ]
     },
     "metadata": {},
     "output_type": "display_data"
    }
   ],
   "source": [
    "plt.figure(figsize=(8, 6))\n",
    "sns.histplot(dating['Age'], bins=10, kde=True, color='skyblue')\n",
    "plt.title('Age Distribution')\n",
    "plt.xlabel('Age')\n",
    "plt.ylabel('Frequency')\n",
    "plt.show()"
   ]
  },
  {
   "cell_type": "code",
   "execution_count": 6,
   "id": "f957d7dd-b56b-4d96-b795-9e752a84d182",
   "metadata": {},
   "outputs": [],
   "source": [
    "import seaborn as sns\n"
   ]
  },
  {
   "cell_type": "code",
   "execution_count": 40,
   "id": "e89c4589-8440-4640-8f2f-846e4749d637",
   "metadata": {},
   "outputs": [
    {
     "name": "stdout",
     "output_type": "stream",
     "text": [
      "Collecting seaborn\n",
      "  Downloading seaborn-0.13.2-py3-none-any.whl.metadata (5.4 kB)\n",
      "Requirement already satisfied: numpy!=1.24.0,>=1.20 in c:\\users\\msi\\anaconda3\\envs\\machine learning\\lib\\site-packages (from seaborn) (2.2.2)\n",
      "Requirement already satisfied: pandas>=1.2 in c:\\users\\msi\\anaconda3\\envs\\machine learning\\lib\\site-packages (from seaborn) (2.2.3)\n",
      "Requirement already satisfied: matplotlib!=3.6.1,>=3.4 in c:\\users\\msi\\anaconda3\\envs\\machine learning\\lib\\site-packages (from seaborn) (3.10.0)\n",
      "Requirement already satisfied: contourpy>=1.0.1 in c:\\users\\msi\\anaconda3\\envs\\machine learning\\lib\\site-packages (from matplotlib!=3.6.1,>=3.4->seaborn) (1.3.1)\n",
      "Requirement already satisfied: cycler>=0.10 in c:\\users\\msi\\anaconda3\\envs\\machine learning\\lib\\site-packages (from matplotlib!=3.6.1,>=3.4->seaborn) (0.12.1)\n",
      "Requirement already satisfied: fonttools>=4.22.0 in c:\\users\\msi\\anaconda3\\envs\\machine learning\\lib\\site-packages (from matplotlib!=3.6.1,>=3.4->seaborn) (4.55.6)\n",
      "Requirement already satisfied: kiwisolver>=1.3.1 in c:\\users\\msi\\anaconda3\\envs\\machine learning\\lib\\site-packages (from matplotlib!=3.6.1,>=3.4->seaborn) (1.4.8)\n",
      "Requirement already satisfied: packaging>=20.0 in c:\\users\\msi\\anaconda3\\envs\\machine learning\\lib\\site-packages (from matplotlib!=3.6.1,>=3.4->seaborn) (24.2)\n",
      "Requirement already satisfied: pillow>=8 in c:\\users\\msi\\anaconda3\\envs\\machine learning\\lib\\site-packages (from matplotlib!=3.6.1,>=3.4->seaborn) (11.1.0)\n",
      "Requirement already satisfied: pyparsing>=2.3.1 in c:\\users\\msi\\anaconda3\\envs\\machine learning\\lib\\site-packages (from matplotlib!=3.6.1,>=3.4->seaborn) (3.2.1)\n",
      "Requirement already satisfied: python-dateutil>=2.7 in c:\\users\\msi\\anaconda3\\envs\\machine learning\\lib\\site-packages (from matplotlib!=3.6.1,>=3.4->seaborn) (2.9.0.post0)\n",
      "Requirement already satisfied: pytz>=2020.1 in c:\\users\\msi\\anaconda3\\envs\\machine learning\\lib\\site-packages (from pandas>=1.2->seaborn) (2024.2)\n",
      "Requirement already satisfied: tzdata>=2022.7 in c:\\users\\msi\\anaconda3\\envs\\machine learning\\lib\\site-packages (from pandas>=1.2->seaborn) (2025.1)\n",
      "Requirement already satisfied: six>=1.5 in c:\\users\\msi\\anaconda3\\envs\\machine learning\\lib\\site-packages (from python-dateutil>=2.7->matplotlib!=3.6.1,>=3.4->seaborn) (1.16.0)\n",
      "Downloading seaborn-0.13.2-py3-none-any.whl (294 kB)\n",
      "Installing collected packages: seaborn\n",
      "Successfully installed seaborn-0.13.2\n"
     ]
    }
   ],
   "source": [
    "!pip install seaborn"
   ]
  },
  {
   "cell_type": "code",
   "execution_count": 42,
   "id": "fbf450a9-a4a5-4140-9bb8-834b034a44e5",
   "metadata": {},
   "outputs": [
    {
     "data": {
      "image/png": "[encoded data removed]",
      "text/plain": [
       "<Figure size 800x600 with 1 Axes>"
      ]
     },
     "metadata": {},
     "output_type": "display_data"
    }
   ],
   "source": [
    "plt.figure(figsize=(8, 6))\n",
    "sns.histplot(dating['Age'], bins=10, kde=True, color='skyblue')\n",
    "plt.title('Age Distribution')\n",
    "plt.xlabel('Age')\n",
    "plt.ylabel('Frequency')\n",
    "plt.show()"
   ]
  },
  {
   "cell_type": "code",
   "execution_count": 16,
   "id": "bb54ff8c-dee8-43a2-a9ee-210eb2d2aa5f",
   "metadata": {},
   "outputs": [
    {
     "data": {
      "image/png": "[encoded data removed]",
      "text/plain": [
       "<Figure size 800x600 with 1 Axes>"
      ]
     },
     "metadata": {},
     "output_type": "display_data"
    }
   ],
   "source": [
    "plt.figure(figsize=(8, 6))\n",
    "dating['Gender'].value_counts().plot(kind='bar', color='red')\n",
    "\n",
    "for i, value in enumerate(dating['Gender'].value_counts()):\n",
    "    plt.text(i, value + 1, str(value), ha='center', fontsize=12, fontweight='bold')\n",
    "    \n",
    "plt.title('Gender Distribution')\n",
    "plt.xlabel('Gender')\n",
    "plt.ylabel('Count')\n",
    "plt.show()"
   ]
  },
  {
   "cell_type": "code",
   "execution_count": 45,
   "id": "2984bb8c-d470-42b6-b6ee-92892cfb6a74",
   "metadata": {},
   "outputs": [
    {
     "ename": "ValueError",
     "evalue": "could not convert string to float: 'Non-binary'",
     "output_type": "error",
     "traceback": [
      "\u001b[1;31m---------------------------------------------------------------------------\u001b[0m",
      "\u001b[1;31mValueError\u001b[0m                                Traceback (most recent call last)",
      "Cell \u001b[1;32mIn[45], line 2\u001b[0m\n\u001b[0;32m      1\u001b[0m plt\u001b[38;5;241m.\u001b[39mfigure(figsize\u001b[38;5;241m=\u001b[39m(\u001b[38;5;241m10\u001b[39m, \u001b[38;5;241m6\u001b[39m))\n\u001b[1;32m----> 2\u001b[0m sns\u001b[38;5;241m.\u001b[39mheatmap(dating\u001b[38;5;241m.\u001b[39mcorr(), annot\u001b[38;5;241m=\u001b[39m\u001b[38;5;28;01mTrue\u001b[39;00m, cmap\u001b[38;5;241m=\u001b[39m\u001b[38;5;124m'\u001b[39m\u001b[38;5;124mcoolwarm\u001b[39m\u001b[38;5;124m'\u001b[39m, fmt\u001b[38;5;241m=\u001b[39m\u001b[38;5;124m'\u001b[39m\u001b[38;5;124m.2f\u001b[39m\u001b[38;5;124m'\u001b[39m)\n\u001b[0;32m      3\u001b[0m plt\u001b[38;5;241m.\u001b[39mtitle(\u001b[38;5;124m'\u001b[39m\u001b[38;5;124mCorrelation Heatmap\u001b[39m\u001b[38;5;124m'\u001b[39m)\n\u001b[0;32m      4\u001b[0m plt\u001b[38;5;241m.\u001b[39mshow()\n",
      "File \u001b[1;32m~\\anaconda3\\envs\\Machine learning\\Lib\\site-packages\\pandas\\core\\frame.py:11049\u001b[0m, in \u001b[0;36mDataFrame.corr\u001b[1;34m(self, method, min_periods, numeric_only)\u001b[0m\n\u001b[0;32m  11047\u001b[0m cols \u001b[38;5;241m=\u001b[39m data\u001b[38;5;241m.\u001b[39mcolumns\n\u001b[0;32m  11048\u001b[0m idx \u001b[38;5;241m=\u001b[39m cols\u001b[38;5;241m.\u001b[39mcopy()\n\u001b[1;32m> 11049\u001b[0m mat \u001b[38;5;241m=\u001b[39m data\u001b[38;5;241m.\u001b[39mto_numpy(dtype\u001b[38;5;241m=\u001b[39m\u001b[38;5;28mfloat\u001b[39m, na_value\u001b[38;5;241m=\u001b[39mnp\u001b[38;5;241m.\u001b[39mnan, copy\u001b[38;5;241m=\u001b[39m\u001b[38;5;28;01mFalse\u001b[39;00m)\n\u001b[0;32m  11051\u001b[0m \u001b[38;5;28;01mif\u001b[39;00m method \u001b[38;5;241m==\u001b[39m \u001b[38;5;124m\"\u001b[39m\u001b[38;5;124mpearson\u001b[39m\u001b[38;5;124m\"\u001b[39m:\n\u001b[0;32m  11052\u001b[0m     correl \u001b[38;5;241m=\u001b[39m libalgos\u001b[38;5;241m.\u001b[39mnancorr(mat, minp\u001b[38;5;241m=\u001b[39mmin_periods)\n",
      "File \u001b[1;32m~\\anaconda3\\envs\\Machine learning\\Lib\\site-packages\\pandas\\core\\frame.py:1993\u001b[0m, in \u001b[0;36mDataFrame.to_numpy\u001b[1;34m(self, dtype, copy, na_value)\u001b[0m\n\u001b[0;32m   1991\u001b[0m \u001b[38;5;28;01mif\u001b[39;00m dtype \u001b[38;5;129;01mis\u001b[39;00m \u001b[38;5;129;01mnot\u001b[39;00m \u001b[38;5;28;01mNone\u001b[39;00m:\n\u001b[0;32m   1992\u001b[0m     dtype \u001b[38;5;241m=\u001b[39m np\u001b[38;5;241m.\u001b[39mdtype(dtype)\n\u001b[1;32m-> 1993\u001b[0m result \u001b[38;5;241m=\u001b[39m \u001b[38;5;28mself\u001b[39m\u001b[38;5;241m.\u001b[39m_mgr\u001b[38;5;241m.\u001b[39mas_array(dtype\u001b[38;5;241m=\u001b[39mdtype, copy\u001b[38;5;241m=\u001b[39mcopy, na_value\u001b[38;5;241m=\u001b[39mna_value)\n\u001b[0;32m   1994\u001b[0m \u001b[38;5;28;01mif\u001b[39;00m result\u001b[38;5;241m.\u001b[39mdtype \u001b[38;5;129;01mis\u001b[39;00m \u001b[38;5;129;01mnot\u001b[39;00m dtype:\n\u001b[0;32m   1995\u001b[0m     result \u001b[38;5;241m=\u001b[39m np\u001b[38;5;241m.\u001b[39masarray(result, dtype\u001b[38;5;241m=\u001b[39mdtype)\n",
      "File \u001b[1;32m~\\anaconda3\\envs\\Machine learning\\Lib\\site-packages\\pandas\\core\\internals\\managers.py:1694\u001b[0m, in \u001b[0;36mBlockManager.as_array\u001b[1;34m(self, dtype, copy, na_value)\u001b[0m\n\u001b[0;32m   1692\u001b[0m         arr\u001b[38;5;241m.\u001b[39mflags\u001b[38;5;241m.\u001b[39mwriteable \u001b[38;5;241m=\u001b[39m \u001b[38;5;28;01mFalse\u001b[39;00m\n\u001b[0;32m   1693\u001b[0m \u001b[38;5;28;01melse\u001b[39;00m:\n\u001b[1;32m-> 1694\u001b[0m     arr \u001b[38;5;241m=\u001b[39m \u001b[38;5;28mself\u001b[39m\u001b[38;5;241m.\u001b[39m_interleave(dtype\u001b[38;5;241m=\u001b[39mdtype, na_value\u001b[38;5;241m=\u001b[39mna_value)\n\u001b[0;32m   1695\u001b[0m     \u001b[38;5;66;03m# The underlying data was copied within _interleave, so no need\u001b[39;00m\n\u001b[0;32m   1696\u001b[0m     \u001b[38;5;66;03m# to further copy if copy=True or setting na_value\u001b[39;00m\n\u001b[0;32m   1698\u001b[0m \u001b[38;5;28;01mif\u001b[39;00m na_value \u001b[38;5;129;01mis\u001b[39;00m lib\u001b[38;5;241m.\u001b[39mno_default:\n",
      "File \u001b[1;32m~\\anaconda3\\envs\\Machine learning\\Lib\\site-packages\\pandas\\core\\internals\\managers.py:1753\u001b[0m, in \u001b[0;36mBlockManager._interleave\u001b[1;34m(self, dtype, na_value)\u001b[0m\n\u001b[0;32m   1751\u001b[0m     \u001b[38;5;28;01melse\u001b[39;00m:\n\u001b[0;32m   1752\u001b[0m         arr \u001b[38;5;241m=\u001b[39m blk\u001b[38;5;241m.\u001b[39mget_values(dtype)\n\u001b[1;32m-> 1753\u001b[0m     result[rl\u001b[38;5;241m.\u001b[39mindexer] \u001b[38;5;241m=\u001b[39m arr\n\u001b[0;32m   1754\u001b[0m     itemmask[rl\u001b[38;5;241m.\u001b[39mindexer] \u001b[38;5;241m=\u001b[39m \u001b[38;5;241m1\u001b[39m\n\u001b[0;32m   1756\u001b[0m \u001b[38;5;28;01mif\u001b[39;00m \u001b[38;5;129;01mnot\u001b[39;00m itemmask\u001b[38;5;241m.\u001b[39mall():\n",
      "\u001b[1;31mValueError\u001b[0m: could not convert string to float: 'Non-binary'"
     ]
    },
    {
     "data": {
      "text/plain": [
       "<Figure size 1000x600 with 0 Axes>"
      ]
     },
     "metadata": {},
     "output_type": "display_data"
    }
   ],
   "source": [
    "plt.figure(figsize=(10, 6))\n",
    "sns.heatmap(dating.corr(), annot=True, cmap='coolwarm', fmt='.2f')\n",
    "plt.title('Correlation Heatmap')\n",
    "plt.show()"
   ]
  },
  {
   "cell_type": "code",
   "execution_count": 47,
   "id": "e231e099-a11a-4f47-8524-45365616202c",
   "metadata": {},
   "outputs": [
    {
     "data": {
      "image/png": "[encoded data removed]",
      "text/plain": [
       "<Figure size 1000x600 with 2 Axes>"
      ]
     },
     "metadata": {},
     "output_type": "display_data"
    }
   ],
   "source": [
    "# Select only numerical columns\n",
    "numerical_dating = dating.select_dtypes(include=['number'])\n",
    "\n",
    "# Correlation Heatmap\n",
    "plt.figure(figsize=(10, 6))\n",
    "sns.heatmap(numerical_dating.corr(), annot=True, cmap='coolwarm', fmt='.2f')\n",
    "plt.title('Correlation Heatmap')\n",
    "plt.show()\n"
   ]
  },
  {
   "cell_type": "code",
   "execution_count": 5,
   "id": "cccdf6ea-2a6d-4892-a6d0-c6a72c6d60b0",
   "metadata": {},
   "outputs": [
    {
     "name": "stdout",
     "output_type": "stream",
     "text": [
      "User_ID                     0.0\n",
      "Age                         0.0\n",
      "Gender                      0.0\n",
      "Location                    0.0\n",
      "Education                   0.0\n",
      "Occupation                  0.0\n",
      "Primary_App                21.4\n",
      "Secondary_Apps             22.8\n",
      "Usage_Frequency             0.0\n",
      "Daily_Usage_Time            0.0\n",
      "Reason_for_Using            0.0\n",
      "Satisfaction                0.0\n",
      "Challenges                 23.4\n",
      "Desired_Features            0.0\n",
      "Preferred_Communication     0.0\n",
      "Partner_Priorities          0.0\n",
      "dtype: float64\n"
     ]
    }
   ],
   "source": [
    "missing_percentage = (dating.isnull().sum() / len(dating)) * 100\n",
    "print(missing_percentage)"
   ]
  },
  {
   "cell_type": "code",
   "execution_count": 10,
   "id": "d9f0ff46-1f79-4be7-b799-c5daad26b1c3",
   "metadata": {},
   "outputs": [
    {
     "data": {
      "text/plain": [
       "16"
      ]
     },
     "execution_count": 10,
     "metadata": {},
     "output_type": "execute_result"
    }
   ],
   "source": [
    "dating.shape[1]"
   ]
  },
  {
   "cell_type": "code",
   "execution_count": null,
   "id": "a31177f3-0cea-47dc-877a-a966c091ff02",
   "metadata": {},
   "outputs": [],
   "source": [
    "#Fill missing values with appropriate substitutes\n",
    "# Filling categorical columns with 'Unknown' or 'None'\n",
    "columns_to_fill_unknown = ['Primary_App', 'Secondary_Apps', 'Challenges', 'Desired_Features']\n",
    "dating[columns_to_fill_unknown] = dating[columns_to_fill_unknown].fillna('None')\n"
   ]
  },
  {
   "cell_type": "code",
   "execution_count": 15,
   "id": "bd86d870-00fa-4126-bcff-0c778d30afba",
   "metadata": {},
   "outputs": [],
   "source": [
    "# Filling numerical columns with median (for consistency)\n",
    "dating['Satisfaction'] = dating['Satisfaction'].fillna(dating['Satisfaction'].median())\n"
   ]
  },
  {
   "cell_type": "code",
   "execution_count": 22,
   "id": "e77c26e6-d394-4be7-b5e1-a890e004dc85",
   "metadata": {},
   "outputs": [],
   "source": [
    "Gender_count = dating['Gender'].value_counts()\n"
   ]
  },
  {
   "cell_type": "code",
   "execution_count": 19,
   "id": "ddff608a-5ad3-457c-87ef-86d205706d0d",
   "metadata": {},
   "outputs": [
    {
     "data": {
      "text/plain": [
       "Gender\n",
       "Female        35.2\n",
       "Male          34.2\n",
       "Non-binary    30.6\n",
       "Name: proportion, dtype: float64"
      ]
     },
     "execution_count": 19,
     "metadata": {},
     "output_type": "execute_result"
    }
   ],
   "source": [
    "dating['Gender'].value_counts(normalize=True) * 100"
   ]
  },
  {
   "cell_type": "code",
   "execution_count": 24,
   "id": "f77efd3c-8287-42f4-9eb7-9b022c5ac407",
   "metadata": {},
   "outputs": [
    {
     "name": "stdout",
     "output_type": "stream",
     "text": [
      "            Count Percentage\n",
      "Gender                      \n",
      "Female        176      35.2%\n",
      "Male          171      34.2%\n",
      "Non-binary    153      30.6%\n"
     ]
    }
   ],
   "source": [
    "counts = dating['Gender'].value_counts()\n",
    "percentages = (dating['Gender'].value_counts(normalize=True) * 100).round(1)\n",
    "\n",
    "# Add \"%\" symbol to the percentages\n",
    "percentages = percentages.astype(str) + '%'\n",
    "\n",
    "gender_distribution = pd.DataFrame({'Count': counts, 'Percentage': percentages})\n",
    "\n",
    "print(gender_distribution)\n"
   ]
  },
  {
   "cell_type": "code",
   "execution_count": 25,
   "id": "305ea30d-5e90-4b5a-a51e-9901e41c0c8a",
   "metadata": {},
   "outputs": [
    {
     "name": "stdout",
     "output_type": "stream",
     "text": [
      "User_ID                    integer\n",
      "Age                        integer\n",
      "Gender                      string\n",
      "Location                    string\n",
      "Education                   string\n",
      "Occupation                  string\n",
      "Primary_App                 string\n",
      "Secondary_Apps              string\n",
      "Usage_Frequency             string\n",
      "Daily_Usage_Time            string\n",
      "Reason_for_Using            string\n",
      "Satisfaction               integer\n",
      "Challenges                  string\n",
      "Desired_Features            string\n",
      "Preferred_Communication     string\n",
      "Partner_Priorities          string\n",
      "dtype: object\n"
     ]
    }
   ],
   "source": [
    "data_types = dating.dtypes.replace({\n",
    "    'object': 'string',\n",
    "    'int64': 'integer',\n",
    "    'float64': 'float'\n",
    "})\n",
    "\n",
    "print(data_types)\n"
   ]
  },
  {
   "cell_type": "code",
   "execution_count": 26,
   "id": "add50a12-ee52-49eb-9ed7-277664ecdefd",
   "metadata": {},
   "outputs": [
    {
     "name": "stdout",
     "output_type": "stream",
     "text": [
      "<class 'pandas.core.frame.DataFrame'>\n",
      "RangeIndex: 500 entries, 0 to 499\n",
      "Data columns (total 16 columns):\n",
      " #   Column                   Non-Null Count  Dtype \n",
      "---  ------                   --------------  ----- \n",
      " 0   User_ID                  500 non-null    int64 \n",
      " 1   Age                      500 non-null    int64 \n",
      " 2   Gender                   500 non-null    object\n",
      " 3   Location                 500 non-null    object\n",
      " 4   Education                500 non-null    object\n",
      " 5   Occupation               500 non-null    object\n",
      " 6   Primary_App              500 non-null    object\n",
      " 7   Secondary_Apps           500 non-null    object\n",
      " 8   Usage_Frequency          500 non-null    object\n",
      " 9   Daily_Usage_Time         500 non-null    object\n",
      " 10  Reason_for_Using         500 non-null    object\n",
      " 11  Satisfaction             500 non-null    int64 \n",
      " 12  Challenges               500 non-null    object\n",
      " 13  Desired_Features         500 non-null    object\n",
      " 14  Preferred_Communication  500 non-null    object\n",
      " 15  Partner_Priorities       500 non-null    object\n",
      "dtypes: int64(3), object(13)\n",
      "memory usage: 62.6+ KB\n"
     ]
    }
   ],
   "source": [
    "dating.info()"
   ]
  },
  {
   "cell_type": "code",
   "execution_count": 27,
   "id": "7e9f58e5-6146-4937-ade6-bf0a9456b7f1",
   "metadata": {},
   "outputs": [
    {
     "name": "stdout",
     "output_type": "stream",
     "text": [
      "User_ID                     int64\n",
      "Age                         int64\n",
      "Gender                     object\n",
      "Location                   object\n",
      "Education                  object\n",
      "Occupation                 object\n",
      "Primary_App                object\n",
      "Secondary_Apps             object\n",
      "Usage_Frequency            object\n",
      "Daily_Usage_Time           object\n",
      "Reason_for_Using           object\n",
      "Satisfaction                int64\n",
      "Challenges                 object\n",
      "Desired_Features           object\n",
      "Preferred_Communication    object\n",
      "Partner_Priorities         object\n",
      "dtype: object\n"
     ]
    }
   ],
   "source": [
    "print(dating.dtypes)\n"
   ]
  },
  {
   "cell_type": "code",
   "execution_count": 29,
   "id": "3c7cde4e-4c54-467a-9233-e848aaef04c8",
   "metadata": {},
   "outputs": [],
   "source": [
    " #Convert Columns to Appropriate Data Types\n",
    "# Convert \"Age\" to integer\n",
    "if dating['Age'].dtype != 'int64':\n",
    "    dating['Age'] = pd.to_numeric(dating['Age'], errors='coerce').fillna(0).astype(int)\n",
    "\n",
    "# Convert \"Satisfaction\" to integer\n",
    "if dating['Satisfaction'].dtype != 'int64':\n",
    "    dating['Satisfaction'] = dating['Satisfaction'].astype(int)"
   ]
  },
  {
   "cell_type": "code",
   "execution_count": 30,
   "id": "a8a7ae0b-3b8f-4381-a5d6-7cc0625a2abd",
   "metadata": {},
   "outputs": [
    {
     "name": "stdout",
     "output_type": "stream",
     "text": [
      "User_ID                     int64\n",
      "Age                         int64\n",
      "Gender                     object\n",
      "Location                   object\n",
      "Education                  object\n",
      "Occupation                 object\n",
      "Primary_App                object\n",
      "Secondary_Apps             object\n",
      "Usage_Frequency            object\n",
      "Daily_Usage_Time           object\n",
      "Reason_for_Using           object\n",
      "Satisfaction                int64\n",
      "Challenges                 object\n",
      "Desired_Features           object\n",
      "Preferred_Communication    object\n",
      "Partner_Priorities         object\n",
      "dtype: object\n"
     ]
    }
   ],
   "source": [
    "print(dating.dtypes)"
   ]
  },
  {
   "cell_type": "code",
   "execution_count": 31,
   "id": "22155fe2-a99e-44f2-9215-b79848f1722c",
   "metadata": {},
   "outputs": [
    {
     "name": "stdout",
     "output_type": "stream",
     "text": [
      "<class 'pandas.core.frame.DataFrame'>\n",
      "RangeIndex: 500 entries, 0 to 499\n",
      "Data columns (total 16 columns):\n",
      " #   Column                   Non-Null Count  Dtype \n",
      "---  ------                   --------------  ----- \n",
      " 0   User_ID                  500 non-null    int64 \n",
      " 1   Age                      500 non-null    int64 \n",
      " 2   Gender                   500 non-null    object\n",
      " 3   Location                 500 non-null    object\n",
      " 4   Education                500 non-null    object\n",
      " 5   Occupation               500 non-null    object\n",
      " 6   Primary_App              500 non-null    object\n",
      " 7   Secondary_Apps           500 non-null    object\n",
      " 8   Usage_Frequency          500 non-null    object\n",
      " 9   Daily_Usage_Time         500 non-null    object\n",
      " 10  Reason_for_Using         500 non-null    object\n",
      " 11  Satisfaction             500 non-null    int64 \n",
      " 12  Challenges               500 non-null    object\n",
      " 13  Desired_Features         500 non-null    object\n",
      " 14  Preferred_Communication  500 non-null    object\n",
      " 15  Partner_Priorities       500 non-null    object\n",
      "dtypes: int64(3), object(13)\n",
      "memory usage: 62.6+ KB\n"
     ]
    }
   ],
   "source": [
    "dating.info()"
   ]
  },
  {
   "cell_type": "code",
   "execution_count": 32,
   "id": "ad93b78f-e7e9-418a-8855-3aa63c024537",
   "metadata": {},
   "outputs": [
    {
     "name": "stdout",
     "output_type": "stream",
     "text": [
      "                Column Name      Type\n",
      "0                   User_ID   Integer\n",
      "1                       Age   Integer\n",
      "2                    Gender  Category\n",
      "3                  Location  Category\n",
      "4                 Education  Category\n",
      "5                Occupation  Category\n",
      "6               Primary_App  Category\n",
      "7            Secondary_Apps  Category\n",
      "8           Usage_Frequency  Category\n",
      "9          Daily_Usage_Time  Category\n",
      "10         Reason_for_Using  Category\n",
      "11             Satisfaction   Integer\n",
      "12               Challenges  Category\n",
      "13         Desired_Features  Category\n",
      "14  Preferred_Communication  Category\n",
      "15       Partner_Priorities  Category\n"
     ]
    }
   ],
   "source": [
    "#This method labels each column based on its type:\n",
    "column_types = {}\n",
    "\n",
    "for col in dating.columns:\n",
    "    if dating[col].dtype == 'int64':\n",
    "        column_types[col] = 'Integer'\n",
    "    elif dating[col].dtype == 'float64':\n",
    "        column_types[col] = 'Float'\n",
    "    elif dating[col].dtype == 'object':\n",
    "        # If the column has a low number of unique values, it's likely categorical\n",
    "        if dating[col].nunique() < 10:  \n",
    "            column_types[col] = 'Category'\n",
    "        else:\n",
    "            column_types[col] = 'String'  # If many unique values, it's likely text data\n",
    "\n",
    "# Convert to DataFrame for better visualization\n",
    "column_types_df = pd.DataFrame(list(column_types.items()), columns=['Column Name', 'Type'])\n",
    "\n",
    "# Display the categorized data types\n",
    "print(column_types_df)\n"
   ]
  },
  {
   "cell_type": "code",
   "execution_count": 33,
   "id": "ea87c8fa-808e-4108-a3a6-d22563fe5db4",
   "metadata": {},
   "outputs": [
    {
     "name": "stdout",
     "output_type": "stream",
     "text": [
      "<class 'pandas.core.frame.DataFrame'>\n",
      "RangeIndex: 500 entries, 0 to 499\n",
      "Data columns (total 16 columns):\n",
      " #   Column                   Non-Null Count  Dtype \n",
      "---  ------                   --------------  ----- \n",
      " 0   User_ID                  500 non-null    int64 \n",
      " 1   Age                      500 non-null    int64 \n",
      " 2   Gender                   500 non-null    object\n",
      " 3   Location                 500 non-null    object\n",
      " 4   Education                500 non-null    object\n",
      " 5   Occupation               500 non-null    object\n",
      " 6   Primary_App              500 non-null    object\n",
      " 7   Secondary_Apps           500 non-null    object\n",
      " 8   Usage_Frequency          500 non-null    object\n",
      " 9   Daily_Usage_Time         500 non-null    object\n",
      " 10  Reason_for_Using         500 non-null    object\n",
      " 11  Satisfaction             500 non-null    int64 \n",
      " 12  Challenges               500 non-null    object\n",
      " 13  Desired_Features         500 non-null    object\n",
      " 14  Preferred_Communication  500 non-null    object\n",
      " 15  Partner_Priorities       500 non-null    object\n",
      "dtypes: int64(3), object(13)\n",
      "memory usage: 62.6+ KB\n"
     ]
    }
   ],
   "source": [
    "dating.info()"
   ]
  },
  {
   "cell_type": "code",
   "execution_count": 34,
   "id": "aa51075a-0503-46dc-aecd-c4667297fed8",
   "metadata": {},
   "outputs": [],
   "source": [
    "# Convert columns with few unique values to 'category' dtype\n",
    "for col in dating.select_dtypes(include=['object']).columns:\n",
    "    if dating[col].nunique() < 10:  # Assuming <10 unique values means categorical\n",
    "        dating[col] = dating[col].astype('category')\n"
   ]
  },
  {
   "cell_type": "code",
   "execution_count": 35,
   "id": "56515566-d09e-4896-9a3e-0d9bb54f7357",
   "metadata": {},
   "outputs": [],
   "source": [
    "# Convert high unique object columns to string type\n",
    "for col in dating.select_dtypes(include=['object']).columns:\n",
    "    if dating[col].nunique() >= 10:  # Assuming many unique values means free text\n",
    "        dating[col] = dating[col].astype(str)\n"
   ]
  },
  {
   "cell_type": "code",
   "execution_count": 36,
   "id": "f1bee003-f296-4e54-b444-8d46942605e5",
   "metadata": {},
   "outputs": [],
   "source": [
    "# Ensure integers are correctly formatted\n",
    "for col in dating.select_dtypes(include=['int64']).columns:\n",
    "    dating[col] = dating[col].astype(int)\n",
    "\n",
    "# Ensure floats are correctly formatted\n",
    "for col in dating.select_dtypes(include=['float64']).columns:\n",
    "    dating[col] = dating[col].astype(float)\n"
   ]
  },
  {
   "cell_type": "code",
   "execution_count": 37,
   "id": "71248392-f1fc-4ccf-8f14-ac2ccb315596",
   "metadata": {},
   "outputs": [
    {
     "name": "stdout",
     "output_type": "stream",
     "text": [
      "User_ID                       int64\n",
      "Age                           int64\n",
      "Gender                     category\n",
      "Location                   category\n",
      "Education                  category\n",
      "Occupation                 category\n",
      "Primary_App                category\n",
      "Secondary_Apps             category\n",
      "Usage_Frequency            category\n",
      "Daily_Usage_Time           category\n",
      "Reason_for_Using           category\n",
      "Satisfaction                  int64\n",
      "Challenges                 category\n",
      "Desired_Features           category\n",
      "Preferred_Communication    category\n",
      "Partner_Priorities         category\n",
      "dtype: object\n"
     ]
    }
   ],
   "source": [
    "print(dating.dtypes)\n"
   ]
  },
  {
   "cell_type": "code",
   "execution_count": 38,
   "id": "d589f31f-9a5f-447d-b68f-fdb1725ac851",
   "metadata": {},
   "outputs": [],
   "source": [
    "dating.to_csv('Cleaned_GenZ_DatingApp_Data.csv', index=False)\n"
   ]
  },
  {
   "cell_type": "code",
   "execution_count": 39,
   "id": "7980faeb-6f4e-499b-b698-f7d4bab60c83",
   "metadata": {},
   "outputs": [
    {
     "name": "stdout",
     "output_type": "stream",
     "text": [
      "<class 'pandas.core.frame.DataFrame'>\n",
      "RangeIndex: 500 entries, 0 to 499\n",
      "Data columns (total 16 columns):\n",
      " #   Column                   Non-Null Count  Dtype   \n",
      "---  ------                   --------------  -----   \n",
      " 0   User_ID                  500 non-null    int64   \n",
      " 1   Age                      500 non-null    int64   \n",
      " 2   Gender                   500 non-null    category\n",
      " 3   Location                 500 non-null    category\n",
      " 4   Education                500 non-null    category\n",
      " 5   Occupation               500 non-null    category\n",
      " 6   Primary_App              500 non-null    category\n",
      " 7   Secondary_Apps           500 non-null    category\n",
      " 8   Usage_Frequency          500 non-null    category\n",
      " 9   Daily_Usage_Time         500 non-null    category\n",
      " 10  Reason_for_Using         500 non-null    category\n",
      " 11  Satisfaction             500 non-null    int64   \n",
      " 12  Challenges               500 non-null    category\n",
      " 13  Desired_Features         500 non-null    category\n",
      " 14  Preferred_Communication  500 non-null    category\n",
      " 15  Partner_Priorities       500 non-null    category\n",
      "dtypes: category(13), int64(3)\n",
      "memory usage: 20.6 KB\n"
     ]
    }
   ],
   "source": [
    "dating.info()"
   ]
  },
  {
   "cell_type": "code",
   "execution_count": 42,
   "id": "e7e74eb1-df40-427d-89dc-20645f60241d",
   "metadata": {},
   "outputs": [
    {
     "name": "stdout",
     "output_type": "stream",
     "text": [
      "User_ID                       int64\n",
      "Age                           int64\n",
      "Gender                     category\n",
      "Location                   category\n",
      "Education                  category\n",
      "Occupation                 category\n",
      "Primary_App                category\n",
      "Secondary_Apps             category\n",
      "Usage_Frequency            category\n",
      "Daily_Usage_Time           category\n",
      "Reason_for_Using           category\n",
      "Satisfaction                  int64\n",
      "Challenges                 category\n",
      "Desired_Features           category\n",
      "Preferred_Communication    category\n",
      "Partner_Priorities         category\n",
      "dtype: object\n"
     ]
    }
   ],
   "source": [
    "for col in dating.select_dtypes(include=['object']).columns:\n",
    "    dating[col] = dating[col].astype('category' if dating[col].nunique() < 10 else str)\n",
    "\n",
    "for col in dating.select_dtypes(include=['int64']).columns:\n",
    "    dating[col] = dating[col].astype(int)\n",
    "\n",
    "print(dating.dtypes)  # Check changes\n"
   ]
  },
  {
   "cell_type": "code",
   "execution_count": 43,
   "id": "88cca125-c99d-4789-b2bf-c7c87dd8fd5c",
   "metadata": {},
   "outputs": [
    {
     "name": "stdout",
     "output_type": "stream",
     "text": [
      "<class 'pandas.core.frame.DataFrame'>\n",
      "RangeIndex: 500 entries, 0 to 499\n",
      "Data columns (total 16 columns):\n",
      " #   Column                   Non-Null Count  Dtype   \n",
      "---  ------                   --------------  -----   \n",
      " 0   User_ID                  500 non-null    int64   \n",
      " 1   Age                      500 non-null    int64   \n",
      " 2   Gender                   500 non-null    category\n",
      " 3   Location                 500 non-null    category\n",
      " 4   Education                500 non-null    category\n",
      " 5   Occupation               500 non-null    category\n",
      " 6   Primary_App              500 non-null    category\n",
      " 7   Secondary_Apps           500 non-null    category\n",
      " 8   Usage_Frequency          500 non-null    category\n",
      " 9   Daily_Usage_Time         500 non-null    category\n",
      " 10  Reason_for_Using         500 non-null    category\n",
      " 11  Satisfaction             500 non-null    int64   \n",
      " 12  Challenges               500 non-null    category\n",
      " 13  Desired_Features         500 non-null    category\n",
      " 14  Preferred_Communication  500 non-null    category\n",
      " 15  Partner_Priorities       500 non-null    category\n",
      "dtypes: category(13), int64(3)\n",
      "memory usage: 20.6 KB\n"
     ]
    }
   ],
   "source": [
    "dating.info()"
   ]
  },
  {
   "cell_type": "code",
   "execution_count": 44,
   "id": "51793138-795f-4ba1-aa73-da75e574b54b",
   "metadata": {},
   "outputs": [
    {
     "name": "stdout",
     "output_type": "stream",
     "text": [
      "Missing values per column:\n",
      " User_ID                    0\n",
      "Age                        0\n",
      "Gender                     0\n",
      "Location                   0\n",
      "Education                  0\n",
      "Occupation                 0\n",
      "Primary_App                0\n",
      "Secondary_Apps             0\n",
      "Usage_Frequency            0\n",
      "Daily_Usage_Time           0\n",
      "Reason_for_Using           0\n",
      "Satisfaction               0\n",
      "Challenges                 0\n",
      "Desired_Features           0\n",
      "Preferred_Communication    0\n",
      "Partner_Priorities         0\n",
      "dtype: int64\n"
     ]
    }
   ],
   "source": [
    "missing_values = dating.isnull().sum()\n",
    "print(\"Missing values per column:\\n\", missing_values)"
   ]
  },
  {
   "cell_type": "code",
   "execution_count": 45,
   "id": "f3f6ffa3-7311-46ce-ad82-e79b2f08612b",
   "metadata": {},
   "outputs": [
    {
     "data": {
      "text/html": [
       "<div>\n",
       "<style scoped>\n",
       "    .dataframe tbody tr th:only-of-type {\n",
       "        vertical-align: middle;\n",
       "    }\n",
       "\n",
       "    .dataframe tbody tr th {\n",
       "        vertical-align: top;\n",
       "    }\n",
       "\n",
       "    .dataframe thead th {\n",
       "        text-align: right;\n",
       "    }\n",
       "</style>\n",
       "<table border=\"1\" class=\"dataframe\">\n",
       "  <thead>\n",
       "    <tr style=\"text-align: right;\">\n",
       "      <th></th>\n",
       "      <th>User_ID</th>\n",
       "      <th>Age</th>\n",
       "      <th>Gender</th>\n",
       "      <th>Location</th>\n",
       "      <th>Education</th>\n",
       "      <th>Occupation</th>\n",
       "      <th>Primary_App</th>\n",
       "      <th>Secondary_Apps</th>\n",
       "      <th>Usage_Frequency</th>\n",
       "      <th>Daily_Usage_Time</th>\n",
       "      <th>Reason_for_Using</th>\n",
       "      <th>Satisfaction</th>\n",
       "      <th>Challenges</th>\n",
       "      <th>Desired_Features</th>\n",
       "      <th>Preferred_Communication</th>\n",
       "      <th>Partner_Priorities</th>\n",
       "    </tr>\n",
       "  </thead>\n",
       "  <tbody>\n",
       "    <tr>\n",
       "      <th>0</th>\n",
       "      <td>1</td>\n",
       "      <td>20</td>\n",
       "      <td>Non-binary</td>\n",
       "      <td>Bangalore</td>\n",
       "      <td>Undergraduate</td>\n",
       "      <td>Freelancer</td>\n",
       "      <td>Hinge</td>\n",
       "      <td>Hinge</td>\n",
       "      <td>Monthly</td>\n",
       "      <td>1 hour</td>\n",
       "      <td>Finding a Partner</td>\n",
       "      <td>4</td>\n",
       "      <td>Safety Concerns</td>\n",
       "      <td>Audio Calls</td>\n",
       "      <td>Video Calls</td>\n",
       "      <td>Values &gt; Personality &gt; Appearance</td>\n",
       "    </tr>\n",
       "    <tr>\n",
       "      <th>1</th>\n",
       "      <td>2</td>\n",
       "      <td>24</td>\n",
       "      <td>Female</td>\n",
       "      <td>Delhi</td>\n",
       "      <td>Undergraduate</td>\n",
       "      <td>Part-time Job</td>\n",
       "      <td>Hinge</td>\n",
       "      <td>OkCupid</td>\n",
       "      <td>Weekly</td>\n",
       "      <td>30 minutes</td>\n",
       "      <td>Casual Dating</td>\n",
       "      <td>5</td>\n",
       "      <td>Time-Wasting</td>\n",
       "      <td>Video Calls</td>\n",
       "      <td>Text</td>\n",
       "      <td>Values &gt; Personality &gt; Appearance</td>\n",
       "    </tr>\n",
       "    <tr>\n",
       "      <th>2</th>\n",
       "      <td>3</td>\n",
       "      <td>24</td>\n",
       "      <td>Non-binary</td>\n",
       "      <td>Kolkata</td>\n",
       "      <td>Undergraduate</td>\n",
       "      <td>Intern</td>\n",
       "      <td>None</td>\n",
       "      <td>None</td>\n",
       "      <td>Weekly</td>\n",
       "      <td>2 hours</td>\n",
       "      <td>Casual Dating</td>\n",
       "      <td>4</td>\n",
       "      <td>Safety Concerns</td>\n",
       "      <td>Detailed Profiles</td>\n",
       "      <td>Text</td>\n",
       "      <td>Values &gt; Personality &gt; Appearance</td>\n",
       "    </tr>\n",
       "    <tr>\n",
       "      <th>3</th>\n",
       "      <td>4</td>\n",
       "      <td>22</td>\n",
       "      <td>Non-binary</td>\n",
       "      <td>Delhi</td>\n",
       "      <td>Graduate</td>\n",
       "      <td>Full-time Job</td>\n",
       "      <td>None</td>\n",
       "      <td>OkCupid</td>\n",
       "      <td>Daily</td>\n",
       "      <td>30 minutes</td>\n",
       "      <td>Casual Fun</td>\n",
       "      <td>3</td>\n",
       "      <td>None</td>\n",
       "      <td>AI Recommendations</td>\n",
       "      <td>Voice Notes</td>\n",
       "      <td>Personality &gt; Interests &gt; Values</td>\n",
       "    </tr>\n",
       "    <tr>\n",
       "      <th>4</th>\n",
       "      <td>5</td>\n",
       "      <td>18</td>\n",
       "      <td>Male</td>\n",
       "      <td>Delhi</td>\n",
       "      <td>Graduate</td>\n",
       "      <td>Intern</td>\n",
       "      <td>OkCupid</td>\n",
       "      <td>OkCupid</td>\n",
       "      <td>Weekly</td>\n",
       "      <td>2 hours</td>\n",
       "      <td>Casual Fun</td>\n",
       "      <td>4</td>\n",
       "      <td>Safety Concerns</td>\n",
       "      <td>Video Calls</td>\n",
       "      <td>Text</td>\n",
       "      <td>Appearance &gt; Interests &gt; Personality</td>\n",
       "    </tr>\n",
       "  </tbody>\n",
       "</table>\n",
       "</div>"
      ],
      "text/plain": [
       "   User_ID  Age      Gender   Location      Education     Occupation  \\\n",
       "0        1   20  Non-binary  Bangalore  Undergraduate     Freelancer   \n",
       "1        2   24      Female      Delhi  Undergraduate  Part-time Job   \n",
       "2        3   24  Non-binary    Kolkata  Undergraduate         Intern   \n",
       "3        4   22  Non-binary      Delhi       Graduate  Full-time Job   \n",
       "4        5   18        Male      Delhi       Graduate         Intern   \n",
       "\n",
       "  Primary_App Secondary_Apps Usage_Frequency Daily_Usage_Time  \\\n",
       "0       Hinge          Hinge         Monthly           1 hour   \n",
       "1       Hinge        OkCupid          Weekly       30 minutes   \n",
       "2        None           None          Weekly          2 hours   \n",
       "3        None        OkCupid           Daily       30 minutes   \n",
       "4     OkCupid        OkCupid          Weekly          2 hours   \n",
       "\n",
       "    Reason_for_Using  Satisfaction       Challenges    Desired_Features  \\\n",
       "0  Finding a Partner             4  Safety Concerns         Audio Calls   \n",
       "1      Casual Dating             5     Time-Wasting         Video Calls   \n",
       "2      Casual Dating             4  Safety Concerns   Detailed Profiles   \n",
       "3         Casual Fun             3             None  AI Recommendations   \n",
       "4         Casual Fun             4  Safety Concerns         Video Calls   \n",
       "\n",
       "  Preferred_Communication                    Partner_Priorities  \n",
       "0             Video Calls     Values > Personality > Appearance  \n",
       "1                    Text     Values > Personality > Appearance  \n",
       "2                    Text     Values > Personality > Appearance  \n",
       "3             Voice Notes      Personality > Interests > Values  \n",
       "4                    Text  Appearance > Interests > Personality  "
      ]
     },
     "execution_count": 45,
     "metadata": {},
     "output_type": "execute_result"
    }
   ],
   "source": [
    "dating.head(5)"
   ]
  },
  {
   "cell_type": "code",
   "execution_count": 46,
   "id": "63a2825c-74ef-4d9b-bb9b-fc025962d416",
   "metadata": {},
   "outputs": [
    {
     "data": {
      "text/plain": [
       "Primary_App\n",
       "OkCupid    118\n",
       "None       107\n",
       "Hinge      106\n",
       "Bumble      93\n",
       "Tinder      76\n",
       "Name: count, dtype: int64"
      ]
     },
     "execution_count": 46,
     "metadata": {},
     "output_type": "execute_result"
    }
   ],
   "source": [
    "dating['Primary_App'].value_counts()\n"
   ]
  },
  {
   "cell_type": "code",
   "execution_count": 47,
   "id": "544fbd10-51d3-4127-adca-aee892dba7f5",
   "metadata": {},
   "outputs": [
    {
     "data": {
      "text/plain": [
       "Daily_Usage_Time\n",
       "1.5 hours     109\n",
       "2 hours       104\n",
       "3 hours       102\n",
       "1 hour         97\n",
       "30 minutes     88\n",
       "Name: count, dtype: int64"
      ]
     },
     "execution_count": 47,
     "metadata": {},
     "output_type": "execute_result"
    }
   ],
   "source": [
    "dating['Daily_Usage_Time'].value_counts()\n"
   ]
  },
  {
   "cell_type": "code",
   "execution_count": 48,
   "id": "af3a6e96-97d2-4019-a480-045941ee4065",
   "metadata": {},
   "outputs": [
    {
     "data": {
      "text/plain": [
       "Usage_Frequency\n",
       "Daily      181\n",
       "Weekly     161\n",
       "Monthly    158\n",
       "Name: count, dtype: int64"
      ]
     },
     "execution_count": 48,
     "metadata": {},
     "output_type": "execute_result"
    }
   ],
   "source": [
    "dating['Usage_Frequency'].value_counts()\n"
   ]
  },
  {
   "cell_type": "code",
   "execution_count": 49,
   "id": "c0178459-edee-457d-a3d1-731bad5ce788",
   "metadata": {},
   "outputs": [
    {
     "name": "stderr",
     "output_type": "stream",
     "text": [
      "C:\\Users\\MSI\\AppData\\Local\\Temp\\ipykernel_16784\\3193479086.py:2: FutureWarning: The default of observed=False is deprecated and will be changed to True in a future version of pandas. Pass observed=False to retain current behavior or observed=True to adopt the future default and silence this warning.\n",
      "  dating.groupby('Usage_Frequency')['Satisfaction'].mean()\n"
     ]
    },
    {
     "data": {
      "text/plain": [
       "Usage_Frequency\n",
       "Daily      2.751381\n",
       "Monthly    2.987342\n",
       "Weekly     3.000000\n",
       "Name: Satisfaction, dtype: float64"
      ]
     },
     "execution_count": 49,
     "metadata": {},
     "output_type": "execute_result"
    }
   ],
   "source": [
    "#Does Satisfaction Depend on Usage?\n",
    "dating.groupby('Usage_Frequency')['Satisfaction'].mean()"
   ]
  },
  {
   "cell_type": "code",
   "execution_count": 50,
   "id": "0bf49921-726b-4b2d-86a1-3ca37b031877",
   "metadata": {},
   "outputs": [
    {
     "data": {
      "text/plain": [
       "Location\n",
       "Mumbai       82\n",
       "Kolkata      76\n",
       "Delhi        76\n",
       "Bangalore    69\n",
       "Pune         67\n",
       "Chennai      66\n",
       "Hyderabad    64\n",
       "Name: count, dtype: int64"
      ]
     },
     "execution_count": 50,
     "metadata": {},
     "output_type": "execute_result"
    }
   ],
   "source": [
    "dating['Location'].value_counts()\n"
   ]
  },
  {
   "cell_type": "code",
   "execution_count": 51,
   "id": "05b58768-d7a7-4597-8a6a-e885e14b0188",
   "metadata": {},
   "outputs": [
    {
     "data": {
      "image/png": "[encoded data removed]",
      "text/plain": [
       "<Figure size 800x600 with 1 Axes>"
      ]
     },
     "metadata": {},
     "output_type": "display_data"
    }
   ],
   "source": [
    "plt.figure(figsize=(8, 6))\n",
    "dating['Primary_App'].value_counts().plot(kind='bar', color='purple')\n",
    "plt.title('Most used Dating Apps')\n",
    "plt.xlabel('Dating App')\n",
    "plt.ylabel('Number of Users')\n",
    "plt.xticks(rotation=45)\n",
    "plt.show()"
   ]
  },
  {
   "cell_type": "code",
   "execution_count": 52,
   "id": "aeaa954d-2fed-4784-9947-3686a4c27b7d",
   "metadata": {},
   "outputs": [
    {
     "name": "stderr",
     "output_type": "stream",
     "text": [
      "C:\\Users\\MSI\\AppData\\Local\\Temp\\ipykernel_16784\\2698019389.py:2: FutureWarning: \n",
      "\n",
      "Passing `palette` without assigning `hue` is deprecated and will be removed in v0.14.0. Assign the `x` variable to `hue` and set `legend=False` for the same effect.\n",
      "\n",
      "  sns.boxplot(x='Usage_Frequency', y='Satisfaction', data=dating, palette='muted')\n"
     ]
    },
    {
     "data": {
      "image/png": "[encoded data removed]",
      "text/plain": [
       "<Figure size 800x600 with 1 Axes>"
      ]
     },
     "metadata": {},
     "output_type": "display_data"
    }
   ],
   "source": [
    "plt.figure(figsize=(8, 6 ))\n",
    "sns.boxplot(x='Usage_Frequency', y='Satisfaction', data=dating, palette='muted')\n",
    "plt.title('Satisfaction vs Usage Frequency')\n",
    "plt.xlabel('Usage Frequency')\n",
    "plt.ylabel('Satisfaction')\n",
    "plt.xticks(rotation=45)\n",
    "plt.show()"
   ]
  },
  {
   "cell_type": "code",
   "execution_count": 53,
   "id": "0acec147-3b49-42ed-9436-2390bc2e759e",
   "metadata": {},
   "outputs": [
    {
     "name": "stdout",
     "output_type": "stream",
     "text": [
      "count    500.000000\n",
      "mean      21.582000\n",
      "std        2.259532\n",
      "min       18.000000\n",
      "25%       20.000000\n",
      "50%       22.000000\n",
      "75%       24.000000\n",
      "max       25.000000\n",
      "Name: Age, dtype: float64\n"
     ]
    }
   ],
   "source": [
    "age_stats = dating['Age'].describe()\n",
    "\n",
    "print(age_stats)"
   ]
  },
  {
   "cell_type": "code",
   "execution_count": 57,
   "id": "03d63ce2-ac42-47d6-a6aa-7d2d4d6fcde7",
   "metadata": {},
   "outputs": [
    {
     "data": {
      "image/png": "[encoded data removed]",
      "text/plain": [
       "<Figure size 800x600 with 1 Axes>"
      ]
     },
     "metadata": {},
     "output_type": "display_data"
    }
   ],
   "source": [
    "plt.figure(figsize=(8, 6))\n",
    "sns.boxplot(x=dating['Age'], color='Purple')\n",
    "plt.title('Boxplot Age distribution')\n",
    "plt.xlabel('Age')\n",
    "plt.show()"
   ]
  },
  {
   "cell_type": "code",
   "execution_count": 56,
   "id": "38be93a3-a987-4c15-b2a4-5a9bb8b10486",
   "metadata": {},
   "outputs": [
    {
     "name": "stdout",
     "output_type": "stream",
     "text": [
      "<class 'pandas.core.frame.DataFrame'>\n",
      "RangeIndex: 500 entries, 0 to 499\n",
      "Data columns (total 16 columns):\n",
      " #   Column                   Non-Null Count  Dtype   \n",
      "---  ------                   --------------  -----   \n",
      " 0   User_ID                  500 non-null    int64   \n",
      " 1   Age                      500 non-null    int64   \n",
      " 2   Gender                   500 non-null    category\n",
      " 3   Location                 500 non-null    category\n",
      " 4   Education                500 non-null    category\n",
      " 5   Occupation               500 non-null    category\n",
      " 6   Primary_App              500 non-null    category\n",
      " 7   Secondary_Apps           500 non-null    category\n",
      " 8   Usage_Frequency          500 non-null    category\n",
      " 9   Daily_Usage_Time         500 non-null    category\n",
      " 10  Reason_for_Using         500 non-null    category\n",
      " 11  Satisfaction             500 non-null    int64   \n",
      " 12  Challenges               500 non-null    category\n",
      " 13  Desired_Features         500 non-null    category\n",
      " 14  Preferred_Communication  500 non-null    category\n",
      " 15  Partner_Priorities       500 non-null    category\n",
      "dtypes: category(13), int64(3)\n",
      "memory usage: 20.6 KB\n"
     ]
    }
   ],
   "source": [
    "dating.info()"
   ]
  },
  {
   "cell_type": "code",
   "execution_count": 58,
   "id": "460cc23f-8bf3-40b2-9e3e-e2a49c2a2f7a",
   "metadata": {},
   "outputs": [
    {
     "data": {
      "image/png": "[encoded data removed]",
      "text/plain": [
       "<Figure size 800x600 with 1 Axes>"
      ]
     },
     "metadata": {},
     "output_type": "display_data"
    }
   ],
   "source": [
    "plt.figure(figsize=(8, 6))\n",
    "sns.histplot(dating['Age'], bins=10, kde=True, color='skyblue')\n",
    "plt.title('Age Distribution')\n",
    "plt.xlabel('Age')\n",
    "plt.ylabel('Frequency')\n",
    "plt.show()"
   ]
  },
  {
   "cell_type": "code",
   "execution_count": 60,
   "id": "a8c58691-1495-45cb-8644-d9884fd0d3a3",
   "metadata": {},
   "outputs": [
    {
     "data": {
      "image/png": "[encoded data removed]",
      "text/plain": [
       "<Figure size 800x800 with 1 Axes>"
      ]
     },
     "metadata": {},
     "output_type": "display_data"
    }
   ],
   "source": [
    "category_counts = dating[\"Primary_App\"].value_counts()\n",
    "\n",
    "# Plot pie chart\n",
    "plt.figure(figsize=(8, 8))\n",
    "plt.pie(category_counts, labels=category_counts.index, autopct='%1.1f%%', startangle=90, colors=['skyblue', 'lightgreen', 'coral', 'gold'])\n",
    "plt.title(\"Distribution of Categories\")\n",
    "plt.show()"
   ]
  },
  {
   "cell_type": "code",
   "execution_count": null,
   "id": "8462db2e-c6d5-4816-96bd-684306916d66",
   "metadata": {},
   "outputs": [],
   "source": []
  }
 ],
 "metadata": {
  "kernelspec": {
   "display_name": "Python 3 (ipykernel)",
   "language": "python",
   "name": "python3"
  },
  "language_info": {
   "codemirror_mode": {
    "name": "ipython",
    "version": 3
   },
   "file_extension": ".py",
   "mimetype": "text/x-python",
   "name": "python",
   "nbconvert_exporter": "python",
   "pygments_lexer": "ipython3",
   "version": "3.12.8"
  }
 },
 "nbformat": 4,
 "nbformat_minor": 5
}
