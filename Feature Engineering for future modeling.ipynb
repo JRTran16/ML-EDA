{
 "cells": [
  {
   "cell_type": "markdown",
   "id": "fc5b3a80-818b-4a78-baf4-484aee6e22ab",
   "metadata": {},
   "source": [
    "Questions for Students\n",
    "• How can we convert categorical variables into numbers for ML models?\n",
    "There are mutilple ways to do it, the first one is label encoding, it means that you assign a unique number to each category. The next one is using One hot encoding, it is a technique used to convert categorical data into a binary format where each category is represented by a separate column with a 1 indicating its presence and 0s for all other categories.\n",
    "\n",
    "• Should we normalize numerical data? Why or why not?\n",
    "It would depend on what we are trying to do, some models works better with numerical data and some other like decision trees and random forests can use categorical value.\n",
    "\n",
    "• What new features could we create to enhance predictive modeling?\n"
   ]
  },
  {
   "cell_type": "code",
   "execution_count": 4,
   "id": "b9b5aec6-343d-43df-bbc3-68ce58fb21a3",
   "metadata": {},
   "outputs": [],
   "source": [
    "import pandas as pd\n",
    "date = pd.read_csv('Cleaned_GenZ_DatingApp_Data.csv')"
   ]
  },
  {
   "cell_type": "code",
   "execution_count": 5,
   "id": "4a5a42d4-7d5d-4473-8d40-26ccbe3b3091",
   "metadata": {},
   "outputs": [
    {
     "name": "stdout",
     "output_type": "stream",
     "text": [
      "   Gender_Male  Gender_Non-binary  Location_Chennai  Location_Delhi  \\\n",
      "0          0.0                1.0               0.0             0.0   \n",
      "1          0.0                0.0               0.0             1.0   \n",
      "2          0.0                1.0               0.0             0.0   \n",
      "3          0.0                1.0               0.0             1.0   \n",
      "4          1.0                0.0               0.0             1.0   \n",
      "\n",
      "   Location_Hyderabad  Location_Kolkata  Location_Mumbai  Location_Pune  \\\n",
      "0                 0.0               0.0              0.0            0.0   \n",
      "1                 0.0               0.0              0.0            0.0   \n",
      "2                 0.0               1.0              0.0            0.0   \n",
      "3                 0.0               0.0              0.0            0.0   \n",
      "4                 0.0               0.0              0.0            0.0   \n",
      "\n",
      "   Education_Postgraduate  Education_Undergraduate  ...  \\\n",
      "0                     0.0                      1.0  ...   \n",
      "1                     0.0                      1.0  ...   \n",
      "2                     0.0                      1.0  ...   \n",
      "3                     0.0                      0.0  ...   \n",
      "4                     0.0                      0.0  ...   \n",
      "\n",
      "   Challenges_Time-Wasting  Challenges_nan  Desired_Features_Audio Calls  \\\n",
      "0                      0.0             0.0                           1.0   \n",
      "1                      1.0             0.0                           0.0   \n",
      "2                      0.0             0.0                           0.0   \n",
      "3                      0.0             1.0                           0.0   \n",
      "4                      0.0             0.0                           0.0   \n",
      "\n",
      "   Desired_Features_Detailed Profiles  \\\n",
      "0                                 0.0   \n",
      "1                                 0.0   \n",
      "2                                 1.0   \n",
      "3                                 0.0   \n",
      "4                                 0.0   \n",
      "\n",
      "   Desired_Features_Location-Based Matching  Desired_Features_Video Calls  \\\n",
      "0                                       0.0                           0.0   \n",
      "1                                       0.0                           1.0   \n",
      "2                                       0.0                           0.0   \n",
      "3                                       0.0                           0.0   \n",
      "4                                       0.0                           1.0   \n",
      "\n",
      "   Preferred_Communication_Video Calls  Preferred_Communication_Voice Notes  \\\n",
      "0                                  1.0                                  0.0   \n",
      "1                                  0.0                                  0.0   \n",
      "2                                  0.0                                  0.0   \n",
      "3                                  0.0                                  1.0   \n",
      "4                                  0.0                                  0.0   \n",
      "\n",
      "   Partner_Priorities_Personality > Interests > Values  \\\n",
      "0                                                0.0     \n",
      "1                                                0.0     \n",
      "2                                                0.0     \n",
      "3                                                1.0     \n",
      "4                                                0.0     \n",
      "\n",
      "   Partner_Priorities_Values > Personality > Appearance  \n",
      "0                                                1.0     \n",
      "1                                                1.0     \n",
      "2                                                1.0     \n",
      "3                                                0.0     \n",
      "4                                                0.0     \n",
      "\n",
      "[5 rows x 38 columns]\n"
     ]
    }
   ],
   "source": [
    "from sklearn.preprocessing import OneHotEncoder\n",
    "\n",
    "categorical_columns = ['Gender', 'Location', 'Education', 'Occupation', 'Primary_App', 'Secondary_Apps', \n",
    "                       'Usage_Frequency', 'Reason_for_Using', 'Challenges', 'Desired_Features', \n",
    "                       'Preferred_Communication', 'Partner_Priorities']\n",
    "\n",
    "#Apply One-Hot Encoding\n",
    "one_hot_encoder = OneHotEncoder(sparse_output=False, drop='first')\n",
    "encoded_categorical = one_hot_encoder.fit_transform(date[categorical_columns])\n",
    "\n",
    "#Convert encoded data to DataFrame\n",
    "encoded_date = pd.DataFrame(encoded_categorical, columns=one_hot_encoder.get_feature_names_out(categorical_columns))\n",
    "\n",
    "# Display the encoded DataFrame\n",
    "print(encoded_date.head())\n"
   ]
  },
  {
   "cell_type": "code",
   "execution_count": 9,
   "id": "9b784061-ca5e-4c29-85e8-0ed8320ecf46",
   "metadata": {},
   "outputs": [
    {
     "name": "stderr",
     "output_type": "stream",
     "text": [
      "C:\\Users\\MSI\\AppData\\Local\\Temp\\ipykernel_14676\\3166445841.py:2: FutureWarning: Downcasting behavior in `replace` is deprecated and will be removed in a future version. To retain the old behavior, explicitly call `result.infer_objects(copy=False)`. To opt-in to the future behavior, set `pd.set_option('future.no_silent_downcasting', True)`\n",
      "  date['Daily_Usage_Time'] = date['Daily_Usage_Time'].replace({\n"
     ]
    }
   ],
   "source": [
    "# Convert 'Daily_Usage_Time' from strings to numeric values (in hours)\n",
    "date['Daily_Usage_Time'] = date['Daily_Usage_Time'].replace({\n",
    "    '30 minutes': 0.5, \n",
    "    '1 hour': 1, \n",
    "    '1.5 hours': 1.5, \n",
    "    '2 hours': 2, \n",
    "    '3 hours': 3\n",
    "})\n"
   ]
  },
  {
   "cell_type": "code",
   "execution_count": 10,
   "id": "93ab3430-6e0f-4664-8403-b2977ec4e55e",
   "metadata": {},
   "outputs": [],
   "source": [
    "from sklearn.preprocessing import MinMaxScaler\n",
    "\n",
    "numerical_columns = ['Age', 'Daily_Usage_Time', 'Satisfaction']\n",
    "\n",
    "#\n",
    "scaler = MinMaxScaler()\n",
    "normalized_numerical = scaler.fit_transform(date[numerical_columns])\n",
    "\n",
    "# Convert the normalized data back to a DataFrame\n",
    "normalized_date = pd.DataFrame(normalized_numerical, columns=numerical_columns)\n",
    "\n"
   ]
  },
  {
   "cell_type": "code",
   "execution_count": 11,
   "id": "a5c8ee41-7d63-4223-9682-dbff128ff61d",
   "metadata": {},
   "outputs": [],
   "source": [
    "# Creating New Feature: Active App Count\n",
    "date['Active_App_Count'] = date.apply(lambda row: 2 if row['Primary_App'] != 'None' and row['Secondary_Apps'] != 'None' \n",
    "                                      else 1 if row['Primary_App'] != 'None' or row['Secondary_Apps'] != 'None' \n",
    "                                      else 0, axis=1)"
   ]
  },
  {
   "cell_type": "code",
   "execution_count": null,
   "id": "d405796e-5a09-44f2-9f3f-3f128831f4e8",
   "metadata": {},
   "outputs": [],
   "source": []
  }
 ],
 "metadata": {
  "kernelspec": {
   "display_name": "Python 3 (ipykernel)",
   "language": "python",
   "name": "python3"
  },
  "language_info": {
   "codemirror_mode": {
    "name": "ipython",
    "version": 3
   },
   "file_extension": ".py",
   "mimetype": "text/x-python",
   "name": "python",
   "nbconvert_exporter": "python",
   "pygments_lexer": "ipython3",
   "version": "3.12.8"
  }
 },
 "nbformat": 4,
 "nbformat_minor": 5
}
